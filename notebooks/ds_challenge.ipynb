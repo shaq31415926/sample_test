{
 "cells": [
  {
   "cell_type": "markdown",
   "metadata": {},
   "source": [
    "## Data Science Challenge - Product\n",
    "\n",
    "Purpose: Understanding user behaviour, and showcasing my data science skills. \n",
    "\n",
    "Please make note this is a sample notebook and can not be run without PostgresSQL connection.\n"
   ]
  },
  {
   "cell_type": "code",
   "execution_count": 1,
   "metadata": {
    "ExecuteTime": {
     "end_time": "2019-11-20T11:32:40.310082Z",
     "start_time": "2019-11-20T11:32:38.302553Z"
    }
   },
   "outputs": [],
   "source": [
    "# import required libraries\n",
    "\n",
    "import os\n",
    "import sys\n",
    "\n",
    "import pandas as pd\n",
    "import psycopg2\n",
    "from pylab import rcParams\n",
    "import numpy as np \n",
    "import matplotlib.pyplot as plt\n",
    "from pandas.plotting import register_matplotlib_converters\n",
    "register_matplotlib_converters()\n",
    "import seaborn as sns\n",
    "import scipy.stats as stats\n",
    "\n",
    "module_path = os.path.abspath(os.path.join('..'))\n",
    "if module_path not in sys.path:\n",
    "    sys.path.append(module_path)\n",
    "    \n",
    "import src.data.connect_postgres as cp\n",
    "from src.features.FeatureSelector import FeatureSelector \n",
    "from src.models.MLPipeline import MLPipeline\n",
    "\n",
    "\n",
    "%matplotlib inline"
   ]
  },
  {
   "cell_type": "code",
   "execution_count": 2,
   "metadata": {
    "ExecuteTime": {
     "end_time": "2019-11-20T11:32:42.103325Z",
     "start_time": "2019-11-20T11:32:42.048743Z"
    }
   },
   "outputs": [],
   "source": [
    "# Create the connection to postgres\n",
    "\n",
    "cnx = cp.connect_postgres()"
   ]
  },
  {
   "cell_type": "markdown",
   "metadata": {},
   "source": [
    "## Part 1  - SQL"
   ]
  },
  {
   "cell_type": "markdown",
   "metadata": {},
   "source": [
    "##### a) Query to calculate the mean, the standard deviation and the median of weekly sign-ups per country."
   ]
  },
  {
   "cell_type": "markdown",
   "metadata": {},
   "source": [
    "GB has the highest number of weekly sign-ups, but I was surprised by the magnitude. On average, there are 119 weekly sign-ups from the GB market, which is roughly the same as the average weekly sign-ups of the next three biggest markets."
   ]
  },
  {
   "cell_type": "code",
   "execution_count": 34,
   "metadata": {
    "ExecuteTime": {
     "end_time": "2019-11-20T12:16:15.678060Z",
     "start_time": "2019-11-20T12:16:15.566058Z"
    }
   },
   "outputs": [
    {
     "data": {
      "text/html": [
       "<div>\n",
       "<style scoped>\n",
       "    .dataframe tbody tr th:only-of-type {\n",
       "        vertical-align: middle;\n",
       "    }\n",
       "\n",
       "    .dataframe tbody tr th {\n",
       "        vertical-align: top;\n",
       "    }\n",
       "\n",
       "    .dataframe thead th {\n",
       "        text-align: right;\n",
       "    }\n",
       "</style>\n",
       "<table border=\"1\" class=\"dataframe\">\n",
       "  <thead>\n",
       "    <tr style=\"text-align: right;\">\n",
       "      <th></th>\n",
       "      <th>country</th>\n",
       "      <th>mean</th>\n",
       "      <th>standard_deviation</th>\n",
       "      <th>median</th>\n",
       "    </tr>\n",
       "  </thead>\n",
       "  <tbody>\n",
       "    <tr>\n",
       "      <th>0</th>\n",
       "      <td>GB</td>\n",
       "      <td>119.15</td>\n",
       "      <td>24.69</td>\n",
       "      <td>122</td>\n",
       "    </tr>\n",
       "    <tr>\n",
       "      <th>1</th>\n",
       "      <td>PL</td>\n",
       "      <td>43.51</td>\n",
       "      <td>22.03</td>\n",
       "      <td>40</td>\n",
       "    </tr>\n",
       "    <tr>\n",
       "      <th>2</th>\n",
       "      <td>FR</td>\n",
       "      <td>39.81</td>\n",
       "      <td>14.25</td>\n",
       "      <td>41</td>\n",
       "    </tr>\n",
       "    <tr>\n",
       "      <th>3</th>\n",
       "      <td>IE</td>\n",
       "      <td>22.91</td>\n",
       "      <td>13.60</td>\n",
       "      <td>21</td>\n",
       "    </tr>\n",
       "    <tr>\n",
       "      <th>4</th>\n",
       "      <td>RO</td>\n",
       "      <td>20.68</td>\n",
       "      <td>15.95</td>\n",
       "      <td>16</td>\n",
       "    </tr>\n",
       "    <tr>\n",
       "      <th>5</th>\n",
       "      <td>ES</td>\n",
       "      <td>18.70</td>\n",
       "      <td>7.28</td>\n",
       "      <td>18</td>\n",
       "    </tr>\n",
       "    <tr>\n",
       "      <th>6</th>\n",
       "      <td>LT</td>\n",
       "      <td>12.19</td>\n",
       "      <td>5.69</td>\n",
       "      <td>11</td>\n",
       "    </tr>\n",
       "    <tr>\n",
       "      <th>7</th>\n",
       "      <td>PT</td>\n",
       "      <td>11.40</td>\n",
       "      <td>7.49</td>\n",
       "      <td>10</td>\n",
       "    </tr>\n",
       "    <tr>\n",
       "      <th>8</th>\n",
       "      <td>MT</td>\n",
       "      <td>10.54</td>\n",
       "      <td>8.52</td>\n",
       "      <td>7</td>\n",
       "    </tr>\n",
       "    <tr>\n",
       "      <th>9</th>\n",
       "      <td>DE</td>\n",
       "      <td>8.58</td>\n",
       "      <td>4.25</td>\n",
       "      <td>7</td>\n",
       "    </tr>\n",
       "    <tr>\n",
       "      <th>10</th>\n",
       "      <td>CH</td>\n",
       "      <td>8.36</td>\n",
       "      <td>3.35</td>\n",
       "      <td>9</td>\n",
       "    </tr>\n",
       "    <tr>\n",
       "      <th>11</th>\n",
       "      <td>CZ</td>\n",
       "      <td>6.83</td>\n",
       "      <td>5.66</td>\n",
       "      <td>5</td>\n",
       "    </tr>\n",
       "    <tr>\n",
       "      <th>12</th>\n",
       "      <td>IT</td>\n",
       "      <td>6.10</td>\n",
       "      <td>4.32</td>\n",
       "      <td>5</td>\n",
       "    </tr>\n",
       "    <tr>\n",
       "      <th>13</th>\n",
       "      <td>GR</td>\n",
       "      <td>4.19</td>\n",
       "      <td>2.42</td>\n",
       "      <td>4</td>\n",
       "    </tr>\n",
       "    <tr>\n",
       "      <th>14</th>\n",
       "      <td>CY</td>\n",
       "      <td>3.98</td>\n",
       "      <td>2.64</td>\n",
       "      <td>4</td>\n",
       "    </tr>\n",
       "    <tr>\n",
       "      <th>15</th>\n",
       "      <td>LV</td>\n",
       "      <td>3.49</td>\n",
       "      <td>1.95</td>\n",
       "      <td>3</td>\n",
       "    </tr>\n",
       "    <tr>\n",
       "      <th>16</th>\n",
       "      <td>NL</td>\n",
       "      <td>3.48</td>\n",
       "      <td>1.90</td>\n",
       "      <td>3</td>\n",
       "    </tr>\n",
       "    <tr>\n",
       "      <th>17</th>\n",
       "      <td>HU</td>\n",
       "      <td>3.27</td>\n",
       "      <td>2.29</td>\n",
       "      <td>3</td>\n",
       "    </tr>\n",
       "    <tr>\n",
       "      <th>18</th>\n",
       "      <td>BE</td>\n",
       "      <td>2.92</td>\n",
       "      <td>2.25</td>\n",
       "      <td>2</td>\n",
       "    </tr>\n",
       "    <tr>\n",
       "      <th>19</th>\n",
       "      <td>SE</td>\n",
       "      <td>2.82</td>\n",
       "      <td>1.65</td>\n",
       "      <td>2</td>\n",
       "    </tr>\n",
       "    <tr>\n",
       "      <th>20</th>\n",
       "      <td>DK</td>\n",
       "      <td>2.30</td>\n",
       "      <td>1.64</td>\n",
       "      <td>2</td>\n",
       "    </tr>\n",
       "    <tr>\n",
       "      <th>21</th>\n",
       "      <td>NO</td>\n",
       "      <td>2.29</td>\n",
       "      <td>1.87</td>\n",
       "      <td>2</td>\n",
       "    </tr>\n",
       "    <tr>\n",
       "      <th>22</th>\n",
       "      <td>BG</td>\n",
       "      <td>2.29</td>\n",
       "      <td>1.25</td>\n",
       "      <td>2</td>\n",
       "    </tr>\n",
       "    <tr>\n",
       "      <th>23</th>\n",
       "      <td>SI</td>\n",
       "      <td>2.18</td>\n",
       "      <td>1.30</td>\n",
       "      <td>2</td>\n",
       "    </tr>\n",
       "    <tr>\n",
       "      <th>24</th>\n",
       "      <td>HR</td>\n",
       "      <td>2.17</td>\n",
       "      <td>1.61</td>\n",
       "      <td>2</td>\n",
       "    </tr>\n",
       "    <tr>\n",
       "      <th>25</th>\n",
       "      <td>AT</td>\n",
       "      <td>2.05</td>\n",
       "      <td>1.16</td>\n",
       "      <td>2</td>\n",
       "    </tr>\n",
       "    <tr>\n",
       "      <th>26</th>\n",
       "      <td>SK</td>\n",
       "      <td>1.98</td>\n",
       "      <td>1.23</td>\n",
       "      <td>2</td>\n",
       "    </tr>\n",
       "    <tr>\n",
       "      <th>27</th>\n",
       "      <td>JE</td>\n",
       "      <td>1.72</td>\n",
       "      <td>0.85</td>\n",
       "      <td>1</td>\n",
       "    </tr>\n",
       "    <tr>\n",
       "      <th>28</th>\n",
       "      <td>EE</td>\n",
       "      <td>1.59</td>\n",
       "      <td>1.05</td>\n",
       "      <td>1</td>\n",
       "    </tr>\n",
       "    <tr>\n",
       "      <th>29</th>\n",
       "      <td>GI</td>\n",
       "      <td>1.47</td>\n",
       "      <td>0.82</td>\n",
       "      <td>1</td>\n",
       "    </tr>\n",
       "    <tr>\n",
       "      <th>30</th>\n",
       "      <td>GP</td>\n",
       "      <td>1.43</td>\n",
       "      <td>0.53</td>\n",
       "      <td>1</td>\n",
       "    </tr>\n",
       "    <tr>\n",
       "      <th>31</th>\n",
       "      <td>RE</td>\n",
       "      <td>1.40</td>\n",
       "      <td>0.55</td>\n",
       "      <td>1</td>\n",
       "    </tr>\n",
       "    <tr>\n",
       "      <th>32</th>\n",
       "      <td>FI</td>\n",
       "      <td>1.31</td>\n",
       "      <td>0.54</td>\n",
       "      <td>1</td>\n",
       "    </tr>\n",
       "    <tr>\n",
       "      <th>33</th>\n",
       "      <td>IM</td>\n",
       "      <td>1.22</td>\n",
       "      <td>0.44</td>\n",
       "      <td>1</td>\n",
       "    </tr>\n",
       "    <tr>\n",
       "      <th>34</th>\n",
       "      <td>AU</td>\n",
       "      <td>1.20</td>\n",
       "      <td>0.45</td>\n",
       "      <td>1</td>\n",
       "    </tr>\n",
       "    <tr>\n",
       "      <th>35</th>\n",
       "      <td>GG</td>\n",
       "      <td>1.15</td>\n",
       "      <td>0.38</td>\n",
       "      <td>1</td>\n",
       "    </tr>\n",
       "    <tr>\n",
       "      <th>36</th>\n",
       "      <td>LU</td>\n",
       "      <td>1.14</td>\n",
       "      <td>0.48</td>\n",
       "      <td>1</td>\n",
       "    </tr>\n",
       "    <tr>\n",
       "      <th>37</th>\n",
       "      <td>MQ</td>\n",
       "      <td>1.00</td>\n",
       "      <td>0.00</td>\n",
       "      <td>1</td>\n",
       "    </tr>\n",
       "    <tr>\n",
       "      <th>38</th>\n",
       "      <td>LI</td>\n",
       "      <td>1.00</td>\n",
       "      <td>0.00</td>\n",
       "      <td>1</td>\n",
       "    </tr>\n",
       "    <tr>\n",
       "      <th>39</th>\n",
       "      <td>IS</td>\n",
       "      <td>1.00</td>\n",
       "      <td>0.00</td>\n",
       "      <td>1</td>\n",
       "    </tr>\n",
       "  </tbody>\n",
       "</table>\n",
       "</div>"
      ],
      "text/plain": [
       "   country    mean  standard_deviation  median\n",
       "0       GB  119.15               24.69     122\n",
       "1       PL   43.51               22.03      40\n",
       "2       FR   39.81               14.25      41\n",
       "3       IE   22.91               13.60      21\n",
       "4       RO   20.68               15.95      16\n",
       "5       ES   18.70                7.28      18\n",
       "6       LT   12.19                5.69      11\n",
       "7       PT   11.40                7.49      10\n",
       "8       MT   10.54                8.52       7\n",
       "9       DE    8.58                4.25       7\n",
       "10      CH    8.36                3.35       9\n",
       "11      CZ    6.83                5.66       5\n",
       "12      IT    6.10                4.32       5\n",
       "13      GR    4.19                2.42       4\n",
       "14      CY    3.98                2.64       4\n",
       "15      LV    3.49                1.95       3\n",
       "16      NL    3.48                1.90       3\n",
       "17      HU    3.27                2.29       3\n",
       "18      BE    2.92                2.25       2\n",
       "19      SE    2.82                1.65       2\n",
       "20      DK    2.30                1.64       2\n",
       "21      NO    2.29                1.87       2\n",
       "22      BG    2.29                1.25       2\n",
       "23      SI    2.18                1.30       2\n",
       "24      HR    2.17                1.61       2\n",
       "25      AT    2.05                1.16       2\n",
       "26      SK    1.98                1.23       2\n",
       "27      JE    1.72                0.85       1\n",
       "28      EE    1.59                1.05       1\n",
       "29      GI    1.47                0.82       1\n",
       "30      GP    1.43                0.53       1\n",
       "31      RE    1.40                0.55       1\n",
       "32      FI    1.31                0.54       1\n",
       "33      IM    1.22                0.44       1\n",
       "34      AU    1.20                0.45       1\n",
       "35      GG    1.15                0.38       1\n",
       "36      LU    1.14                0.48       1\n",
       "37      MQ    1.00                0.00       1\n",
       "38      LI    1.00                0.00       1\n",
       "39      IS    1.00                0.00       1"
      ]
     },
     "execution_count": 34,
     "metadata": {},
     "output_type": "execute_result"
    }
   ],
   "source": [
    "query = \"\"\"\n",
    "    WITH weekly_signups AS (\n",
    "        SELECT country\n",
    "               ,to_char(created_date, 'IYYY-IW') AS week_number\n",
    "               ,COUNT(distinct user_id) AS number_signups\n",
    "        FROM users\n",
    "        GROUP BY country, to_char(created_date, 'IYYY-IW')\n",
    "        ORDER BY country, week_number)\n",
    "\n",
    "    SELECT country\n",
    "       --  ,SUM(number_signups) AS total_signups\n",
    "           ,ROUND(AVG(number_signups),2) AS mean\n",
    "           ,ROUND(STDDEV(number_signups),2) AS standard_deviation\n",
    "           ,PERCENTILE_DISC(0.5) WITHIN GROUP (ORDER BY number_signups) AS median\n",
    "    FROM weekly_signups\n",
    "    GROUP BY country\n",
    "    -- added condition to remove countries with only one customer \n",
    "    -- but would check this with business\n",
    "    HAVING SUM(number_signups) > 1\n",
    "    ORDER BY mean desc;\n",
    "\"\"\"\n",
    "\n",
    "weekly_signups_stats = pd.read_sql_query(query, cnx)\n",
    "\n",
    "weekly_signups_stats"
   ]
  },
  {
   "cell_type": "code",
   "execution_count": 69,
   "metadata": {
    "ExecuteTime": {
     "end_time": "2019-11-20T12:24:36.924662Z",
     "start_time": "2019-11-20T12:24:36.776453Z"
    }
   },
   "outputs": [
    {
     "data": {
      "image/png": "[encoded data removed]",
      "text/plain": [
       "<Figure size 360x360 with 1 Axes>"
      ]
     },
     "metadata": {},
     "output_type": "display_data"
    }
   ],
   "source": [
    "rcParams['figure.figsize'] = 5, 5\n",
    "\n",
    "# Data to plot\n",
    "labels = weekly_signups_stats.country.head(10)\n",
    "sizes = weekly_signups_stats['mean'].head(10)\n",
    "\n",
    "# Plot\n",
    "plt.pie(sizes, labels=labels, startangle=95, autopct='%1.1f%%')\n",
    "\n",
    "plt.axis('equal')\n",
    "plt.show()"
   ]
  },
  {
   "cell_type": "markdown",
   "metadata": {},
   "source": [
    "##### b) Query to calculate the volume of monthly card payment in USD per age group in the interval of 10."
   ]
  },
  {
   "cell_type": "markdown",
   "metadata": {},
   "source": [
    "I found the wording of this question a little confusing, so I have listed my assumptions in the query code. I have also selected a random cohort of users, and tracked their behaviour to identify engagement with the product. \n",
    "\n",
    "Even though the table is a nice way of summarizing how the different age groups are engaging, it still requires a bit of analysis and work from the product owner to understand growth patterns. I have visualized the results in [Fig_1](#Fig_1), and summarised some of the findings:\n",
    "\n",
    "1. There is a drop in the volume of monthly card payments amongst 18-37 year olds towards the end of 2018.\n",
    "2. Volatility in monthly card payments volume amomgst the 38-47 year old users, but overall this age group has the highest volume of transactions.\n",
    "3. There is a slight increase in volume amongst the 58+ group."
   ]
  },
  {
   "cell_type": "code",
   "execution_count": 5,
   "metadata": {
    "ExecuteTime": {
     "end_time": "2019-11-08T02:44:40.108170Z",
     "start_time": "2019-11-08T02:44:39.759386Z"
    }
   },
   "outputs": [
    {
     "data": {
      "text/html": [
       "<div>\n",
       "<style scoped>\n",
       "    .dataframe tbody tr th:only-of-type {\n",
       "        vertical-align: middle;\n",
       "    }\n",
       "\n",
       "    .dataframe tbody tr th {\n",
       "        vertical-align: top;\n",
       "    }\n",
       "\n",
       "    .dataframe thead th {\n",
       "        text-align: right;\n",
       "    }\n",
       "</style>\n",
       "<table border=\"1\" class=\"dataframe\">\n",
       "  <thead>\n",
       "    <tr style=\"text-align: right;\">\n",
       "      <th></th>\n",
       "      <th>age_group</th>\n",
       "      <th>month</th>\n",
       "      <th>monthly_volume_usd</th>\n",
       "    </tr>\n",
       "  </thead>\n",
       "  <tbody>\n",
       "    <tr>\n",
       "      <th>0</th>\n",
       "      <td>18-27</td>\n",
       "      <td>2018-05-01</td>\n",
       "      <td>129.37</td>\n",
       "    </tr>\n",
       "    <tr>\n",
       "      <th>1</th>\n",
       "      <td>18-27</td>\n",
       "      <td>2018-06-01</td>\n",
       "      <td>7562.30</td>\n",
       "    </tr>\n",
       "    <tr>\n",
       "      <th>2</th>\n",
       "      <td>18-27</td>\n",
       "      <td>2018-07-01</td>\n",
       "      <td>5384.25</td>\n",
       "    </tr>\n",
       "    <tr>\n",
       "      <th>3</th>\n",
       "      <td>18-27</td>\n",
       "      <td>2018-08-01</td>\n",
       "      <td>7511.11</td>\n",
       "    </tr>\n",
       "    <tr>\n",
       "      <th>4</th>\n",
       "      <td>18-27</td>\n",
       "      <td>2018-09-01</td>\n",
       "      <td>1841.72</td>\n",
       "    </tr>\n",
       "    <tr>\n",
       "      <th>5</th>\n",
       "      <td>18-27</td>\n",
       "      <td>2018-10-01</td>\n",
       "      <td>2426.19</td>\n",
       "    </tr>\n",
       "    <tr>\n",
       "      <th>6</th>\n",
       "      <td>18-27</td>\n",
       "      <td>2018-11-01</td>\n",
       "      <td>3370.66</td>\n",
       "    </tr>\n",
       "    <tr>\n",
       "      <th>7</th>\n",
       "      <td>18-27</td>\n",
       "      <td>2018-12-01</td>\n",
       "      <td>1655.89</td>\n",
       "    </tr>\n",
       "    <tr>\n",
       "      <th>8</th>\n",
       "      <td>18-27</td>\n",
       "      <td>2019-01-01</td>\n",
       "      <td>2753.87</td>\n",
       "    </tr>\n",
       "    <tr>\n",
       "      <th>9</th>\n",
       "      <td>18-27</td>\n",
       "      <td>2019-02-01</td>\n",
       "      <td>1080.70</td>\n",
       "    </tr>\n",
       "    <tr>\n",
       "      <th>10</th>\n",
       "      <td>18-27</td>\n",
       "      <td>2019-03-01</td>\n",
       "      <td>3699.06</td>\n",
       "    </tr>\n",
       "    <tr>\n",
       "      <th>11</th>\n",
       "      <td>18-27</td>\n",
       "      <td>2019-04-01</td>\n",
       "      <td>451.10</td>\n",
       "    </tr>\n",
       "    <tr>\n",
       "      <th>12</th>\n",
       "      <td>18-27</td>\n",
       "      <td>2019-05-01</td>\n",
       "      <td>308.20</td>\n",
       "    </tr>\n",
       "    <tr>\n",
       "      <th>13</th>\n",
       "      <td>28-37</td>\n",
       "      <td>2018-05-01</td>\n",
       "      <td>1395.46</td>\n",
       "    </tr>\n",
       "    <tr>\n",
       "      <th>14</th>\n",
       "      <td>28-37</td>\n",
       "      <td>2018-06-01</td>\n",
       "      <td>9749.36</td>\n",
       "    </tr>\n",
       "    <tr>\n",
       "      <th>15</th>\n",
       "      <td>28-37</td>\n",
       "      <td>2018-07-01</td>\n",
       "      <td>5318.17</td>\n",
       "    </tr>\n",
       "    <tr>\n",
       "      <th>16</th>\n",
       "      <td>28-37</td>\n",
       "      <td>2018-08-01</td>\n",
       "      <td>8057.47</td>\n",
       "    </tr>\n",
       "    <tr>\n",
       "      <th>17</th>\n",
       "      <td>28-37</td>\n",
       "      <td>2018-09-01</td>\n",
       "      <td>10495.69</td>\n",
       "    </tr>\n",
       "    <tr>\n",
       "      <th>18</th>\n",
       "      <td>28-37</td>\n",
       "      <td>2018-10-01</td>\n",
       "      <td>3331.73</td>\n",
       "    </tr>\n",
       "    <tr>\n",
       "      <th>19</th>\n",
       "      <td>28-37</td>\n",
       "      <td>2018-11-01</td>\n",
       "      <td>4898.24</td>\n",
       "    </tr>\n",
       "  </tbody>\n",
       "</table>\n",
       "</div>"
      ],
      "text/plain": [
       "   age_group      month  monthly_volume_usd\n",
       "0      18-27 2018-05-01              129.37\n",
       "1      18-27 2018-06-01             7562.30\n",
       "2      18-27 2018-07-01             5384.25\n",
       "3      18-27 2018-08-01             7511.11\n",
       "4      18-27 2018-09-01             1841.72\n",
       "5      18-27 2018-10-01             2426.19\n",
       "6      18-27 2018-11-01             3370.66\n",
       "7      18-27 2018-12-01             1655.89\n",
       "8      18-27 2019-01-01             2753.87\n",
       "9      18-27 2019-02-01             1080.70\n",
       "10     18-27 2019-03-01             3699.06\n",
       "11     18-27 2019-04-01              451.10\n",
       "12     18-27 2019-05-01              308.20\n",
       "13     28-37 2018-05-01             1395.46\n",
       "14     28-37 2018-06-01             9749.36\n",
       "15     28-37 2018-07-01             5318.17\n",
       "16     28-37 2018-08-01             8057.47\n",
       "17     28-37 2018-09-01            10495.69\n",
       "18     28-37 2018-10-01             3331.73\n",
       "19     28-37 2018-11-01             4898.24"
      ]
     },
     "execution_count": 5,
     "metadata": {},
     "output_type": "execute_result"
    }
   ],
   "source": [
    "query = \"\"\"\n",
    "    WITH volume AS (\n",
    "        SELECT user_id\n",
    "               ,date_trunc('month', created_date) AS month\n",
    "               ,amount_usd\n",
    "        FROM transactions\n",
    "        -- assuming we are only interested in customers where transaction currency is USD \n",
    "        -- and considering all transaction states\n",
    "        WHERE transactions_type = 'CARD_PAYMENT' AND transactions_currency = 'USD'\n",
    "        -- only considering customers belonging to May 2018 cohort to test if these users are engaging with product\n",
    "        AND user_id IN (\n",
    "            SELECT user_id\n",
    "            FROM (\n",
    "                SELECT user_id\n",
    "                ,min(date_trunc('month', created_date)) as cohort\n",
    "                FROM users\n",
    "                GROUP BY user_id) AS t1\n",
    "            WHERE cohort = '2018-05-01')),\n",
    "        -- sub table to calculate age and age group\n",
    "        users_age_group AS (\n",
    "             WITH users_age AS (\n",
    "                SELECT *\n",
    "                ,date_part('year', CURRENT_DATE) - birth_year AS age\n",
    "                FROM users)\n",
    "            SELECT user_id\n",
    "                   ,age \n",
    "                   ,CASE WHEN age < 28 THEN '18-27' \n",
    "                         WHEN age < 38 THEN '28-37'\n",
    "                         WHEN age < 48 THEN '38-47'\n",
    "                         WHEN age < 58 THEN '48-57'\n",
    "                         WHEN age < 68 THEN '58-67'\n",
    "                         WHEN age < 78 THEN '68-77'\n",
    "                         -- very small portion of customers over 77 (25 customers)\n",
    "                         ELSE '78+'\n",
    "                    END AS age_group\n",
    "            FROM users_age)\n",
    "\n",
    "    SELECT age_group\n",
    "          ,month\n",
    "          ,SUM(amount_usd) AS monthly_volume_usd\n",
    "    FROM volume AS t1\n",
    "    LEFT JOIN users_age_group AS t2 ON t1.user_id = t2.user_id\n",
    "    GROUP BY age_group, month\n",
    "    ORDER BY age_group, month;\n",
    "    \n",
    "\"\"\"\n",
    "\n",
    "monthly_volume_age_group = pd.read_sql_query(query, cnx)\n",
    "\n",
    "monthly_volume_age_group.head(20)\n"
   ]
  },
  {
   "cell_type": "markdown",
   "metadata": {
    "ExecuteTime": {
     "end_time": "2019-11-06T16:40:38.339123Z",
     "start_time": "2019-11-06T16:40:38.324746Z"
    }
   },
   "source": [
    "<a id=\"Fig_1\"></a>"
   ]
  },
  {
   "cell_type": "code",
   "execution_count": 6,
   "metadata": {
    "ExecuteTime": {
     "end_time": "2019-11-08T02:44:42.800302Z",
     "start_time": "2019-11-08T02:44:41.990839Z"
    }
   },
   "outputs": [
    {
     "data": {
      "image/png": "[encoded data removed]",
      "text/plain": [
       "<Figure size 1080x720 with 5 Axes>"
      ]
     },
     "metadata": {},
     "output_type": "display_data"
    }
   ],
   "source": [
    "# code to visualize the monthly volume table\n",
    "\n",
    "rcParams['figure.figsize'] = 15, 10\n",
    "\n",
    "plt.style.use('seaborn-darkgrid')\n",
    " \n",
    "palette = plt.get_cmap('Set2')\n",
    "\n",
    "num=0\n",
    "for column in list(np.unique(monthly_volume_age_group.age_group)):\n",
    "    num+=1\n",
    "    \n",
    "    plt.subplot(3,2, num)\n",
    "    \n",
    "    # plot every group, but discreet\n",
    "    plt.plot(monthly_volume_age_group['month'], monthly_volume_age_group['monthly_volume_usd'], marker='', color='grey', linewidth=0.6, alpha=0.3)\n",
    "  \n",
    "    # subset the dataframe by age group to highlight and plot one age group\n",
    "    data = monthly_volume_age_group[monthly_volume_age_group.age_group == column]\n",
    "    plt.plot(data['month'], data['monthly_volume_usd'], marker='', color=palette(num), linewidth=1.9, alpha=0.9, label=column);\n",
    "    plt.title(column, loc='left', fontsize=12, fontweight=0, color=palette(num))\n"
   ]
  },
  {
   "cell_type": "markdown",
   "metadata": {},
   "source": [
    "##### c) Write a query to show the number of days where the average card payments volume of non standard users is less than standard users. "
   ]
  },
  {
   "cell_type": "markdown",
   "metadata": {},
   "source": [
    "For roughly one third of the year, standard customers have an average card payment volume higher than non standard users. "
   ]
  },
  {
   "cell_type": "code",
   "execution_count": 7,
   "metadata": {
    "ExecuteTime": {
     "end_time": "2019-11-08T02:44:54.607611Z",
     "start_time": "2019-11-08T02:44:51.933947Z"
    },
    "scrolled": true
   },
   "outputs": [
    {
     "data": {
      "text/html": [
       "<div>\n",
       "<style scoped>\n",
       "    .dataframe tbody tr th:only-of-type {\n",
       "        vertical-align: middle;\n",
       "    }\n",
       "\n",
       "    .dataframe tbody tr th {\n",
       "        vertical-align: top;\n",
       "    }\n",
       "\n",
       "    .dataframe thead th {\n",
       "        text-align: right;\n",
       "    }\n",
       "</style>\n",
       "<table border=\"1\" class=\"dataframe\">\n",
       "  <thead>\n",
       "    <tr style=\"text-align: right;\">\n",
       "      <th></th>\n",
       "      <th>number_days</th>\n",
       "    </tr>\n",
       "  </thead>\n",
       "  <tbody>\n",
       "    <tr>\n",
       "      <th>0</th>\n",
       "      <td>150</td>\n",
       "    </tr>\n",
       "  </tbody>\n",
       "</table>\n",
       "</div>"
      ],
      "text/plain": [
       "   number_days\n",
       "0          150"
      ]
     },
     "execution_count": 7,
     "metadata": {},
     "output_type": "execute_result"
    }
   ],
   "source": [
    "query = \"\"\"\n",
    "    WITH standard_users AS (\n",
    "        SELECT date_trunc('day', created_date) AS created_date_trunc\n",
    "                -- assuming we are interested in the daily average spend across all currencies for standard users\n",
    "                ,AVG(amount_usd) AS standard_avg_spend\n",
    "        FROM transactions\n",
    "        WHERE user_id IN (\n",
    "            SELECT user_id\n",
    "            FROM users\n",
    "            WHERE plan = 'STANDARD')\n",
    "        GROUP BY date_trunc('day', created_date)\n",
    "        ORDER BY date_trunc('day', created_date)),\n",
    "    non_standard_users AS (\n",
    "        SELECT date_trunc('day', created_date) AS created_date_trunc\n",
    "                -- assuming we are interested in the daily average spend across all currencies for non standard users\n",
    "                ,AVG(amount_usd) AS non_standard_avg_spend\n",
    "        FROM transactions\n",
    "        WHERE user_id in (\n",
    "            SELECT user_id\n",
    "            FROM users\n",
    "            WHERE plan <> 'STANDARD')\n",
    "            GROUP BY date_trunc('day', created_date)\n",
    "            ORDER BY date_trunc('day', created_date))\n",
    "\n",
    "    SELECT COUNT(*) AS number_days\n",
    "    FROM standard_users AS t1\n",
    "    LEFT JOIN non_standard_users AS t2 ON t1.created_date_trunc=t2.created_date_trunc\n",
    "    WHERE standard_avg_spend > non_standard_avg_spend\n",
    "\"\"\"\n",
    "\n",
    "number_days = pd.read_sql_query(query, cnx)\n",
    "\n",
    "number_days\n"
   ]
  },
  {
   "cell_type": "markdown",
   "metadata": {},
   "source": [
    "## Part 2 - Data Exploration and Analysis"
   ]
  },
  {
   "cell_type": "markdown",
   "metadata": {},
   "source": [
    "### a) Define a target metric to measure user engagement. How would you define an engaged vs. unengaged user?"
   ]
  },
  {
   "cell_type": "markdown",
   "metadata": {},
   "source": [
    "One potential target metric for measuring user engagement is the number of transactions a user makes in a specific time period. \n",
    "\n",
    "To define an engaged vs. an unengaged user, and to build a model for the next part, I have created a table which aggregates the transactions table to a user level. This table includes features such as the first time they made a transaction, their tenure and the number of days since they last made a transaction.\n",
    "\n",
    "I have also assumed the data provided is for a product similar to a current account, so I would expect \"engaged\" users to use their account on a regular basis and to have been active in the last 30 days. \n",
    "\n",
    "Based on the transaction behaviour of customers that have used their account in the last 30 days, I would define an engaged user as someone who makes at least one transaction every five days (the 25th percentile of the average transaction rate for that group, see [Fig_2](#Fig_2)), and an unengaged user as someone who makes less transactions than that."
   ]
  },
  {
   "cell_type": "markdown",
   "metadata": {},
   "source": [
    "### b) Build a model (heuristic/statistical/ML) to classify engaged and unengaged users"
   ]
  },
  {
   "cell_type": "markdown",
   "metadata": {},
   "source": [
    "##### Making the training data set"
   ]
  },
  {
   "cell_type": "code",
   "execution_count": 5,
   "metadata": {
    "ExecuteTime": {
     "end_time": "2019-11-20T12:10:09.633524Z",
     "start_time": "2019-11-20T12:10:09.435175Z"
    }
   },
   "outputs": [
    {
     "name": "stdout",
     "output_type": "stream",
     "text": [
      "(19430, 2)\n"
     ]
    },
    {
     "data": {
      "text/html": [
       "<div>\n",
       "<style scoped>\n",
       "    .dataframe tbody tr th:only-of-type {\n",
       "        vertical-align: middle;\n",
       "    }\n",
       "\n",
       "    .dataframe tbody tr th {\n",
       "        vertical-align: top;\n",
       "    }\n",
       "\n",
       "    .dataframe thead th {\n",
       "        text-align: right;\n",
       "    }\n",
       "</style>\n",
       "<table border=\"1\" class=\"dataframe\">\n",
       "  <thead>\n",
       "    <tr style=\"text-align: right;\">\n",
       "      <th></th>\n",
       "      <th>brand</th>\n",
       "      <th>user_id</th>\n",
       "    </tr>\n",
       "  </thead>\n",
       "  <tbody>\n",
       "    <tr>\n",
       "      <th>0</th>\n",
       "      <td>Android</td>\n",
       "      <td>user_3257</td>\n",
       "    </tr>\n",
       "    <tr>\n",
       "      <th>1</th>\n",
       "      <td>Apple</td>\n",
       "      <td>user_6809</td>\n",
       "    </tr>\n",
       "    <tr>\n",
       "      <th>2</th>\n",
       "      <td>Android</td>\n",
       "      <td>user_9144</td>\n",
       "    </tr>\n",
       "    <tr>\n",
       "      <th>3</th>\n",
       "      <td>Apple</td>\n",
       "      <td>user_3636</td>\n",
       "    </tr>\n",
       "    <tr>\n",
       "      <th>4</th>\n",
       "      <td>Android</td>\n",
       "      <td>user_5970</td>\n",
       "    </tr>\n",
       "  </tbody>\n",
       "</table>\n",
       "</div>"
      ],
      "text/plain": [
       "     brand    user_id\n",
       "0  Android  user_3257\n",
       "1    Apple  user_6809\n",
       "2  Android  user_9144\n",
       "3    Apple  user_3636\n",
       "4  Android  user_5970"
      ]
     },
     "execution_count": 5,
     "metadata": {},
     "output_type": "execute_result"
    }
   ],
   "source": [
    "# import data\n",
    "\n",
    "devices = pd.read_sql_query(\"\"\"SELECT * \n",
    "                               FROM devices;\n",
    "                               \"\"\", cnx)\n",
    "print(devices.shape)\n",
    "devices.head()"
   ]
  },
  {
   "cell_type": "code",
   "execution_count": 6,
   "metadata": {
    "ExecuteTime": {
     "end_time": "2019-11-20T12:10:10.124821Z",
     "start_time": "2019-11-20T12:10:10.110484Z"
    }
   },
   "outputs": [
    {
     "data": {
      "text/plain": [
       "Android    9714\n",
       "Apple      9673\n",
       "Unknown      43\n",
       "Name: brand, dtype: int64"
      ]
     },
     "execution_count": 6,
     "metadata": {},
     "output_type": "execute_result"
    }
   ],
   "source": [
    "devices.brand.value_counts()"
   ]
  },
  {
   "cell_type": "code",
   "execution_count": 7,
   "metadata": {
    "ExecuteTime": {
     "end_time": "2019-11-20T12:10:11.145529Z",
     "start_time": "2019-11-20T12:10:10.337579Z"
    }
   },
   "outputs": [
    {
     "name": "stdout",
     "output_type": "stream",
     "text": [
      "(121813, 5)\n"
     ]
    },
    {
     "data": {
      "text/html": [
       "<div>\n",
       "<style scoped>\n",
       "    .dataframe tbody tr th:only-of-type {\n",
       "        vertical-align: middle;\n",
       "    }\n",
       "\n",
       "    .dataframe tbody tr th {\n",
       "        vertical-align: top;\n",
       "    }\n",
       "\n",
       "    .dataframe thead th {\n",
       "        text-align: right;\n",
       "    }\n",
       "</style>\n",
       "<table border=\"1\" class=\"dataframe\">\n",
       "  <thead>\n",
       "    <tr style=\"text-align: right;\">\n",
       "      <th></th>\n",
       "      <th>reason</th>\n",
       "      <th>channel</th>\n",
       "      <th>status</th>\n",
       "      <th>user_id</th>\n",
       "      <th>created_date</th>\n",
       "    </tr>\n",
       "  </thead>\n",
       "  <tbody>\n",
       "    <tr>\n",
       "      <th>0</th>\n",
       "      <td>REENGAGEMENT_ACTIVE_FUNDS</td>\n",
       "      <td>PUSH</td>\n",
       "      <td>SENT</td>\n",
       "      <td>user_7086</td>\n",
       "      <td>2018-12-02 17:58:33.320645</td>\n",
       "    </tr>\n",
       "    <tr>\n",
       "      <th>1</th>\n",
       "      <td>REENGAGEMENT_ACTIVE_FUNDS</td>\n",
       "      <td>PUSH</td>\n",
       "      <td>SENT</td>\n",
       "      <td>user_6598</td>\n",
       "      <td>2018-12-01 23:09:37.367127</td>\n",
       "    </tr>\n",
       "    <tr>\n",
       "      <th>2</th>\n",
       "      <td>REENGAGEMENT_ACTIVE_FUNDS</td>\n",
       "      <td>PUSH</td>\n",
       "      <td>SENT</td>\n",
       "      <td>user_4151</td>\n",
       "      <td>2018-12-04 02:57:56.425660</td>\n",
       "    </tr>\n",
       "    <tr>\n",
       "      <th>3</th>\n",
       "      <td>REENGAGEMENT_ACTIVE_FUNDS</td>\n",
       "      <td>PUSH</td>\n",
       "      <td>SENT</td>\n",
       "      <td>user_1408</td>\n",
       "      <td>2018-12-11 02:04:46.284683</td>\n",
       "    </tr>\n",
       "    <tr>\n",
       "      <th>4</th>\n",
       "      <td>REENGAGEMENT_ACTIVE_FUNDS</td>\n",
       "      <td>PUSH</td>\n",
       "      <td>SENT</td>\n",
       "      <td>user_6292</td>\n",
       "      <td>2018-12-14 17:09:58.900808</td>\n",
       "    </tr>\n",
       "  </tbody>\n",
       "</table>\n",
       "</div>"
      ],
      "text/plain": [
       "                      reason channel status    user_id  \\\n",
       "0  REENGAGEMENT_ACTIVE_FUNDS    PUSH   SENT  user_7086   \n",
       "1  REENGAGEMENT_ACTIVE_FUNDS    PUSH   SENT  user_6598   \n",
       "2  REENGAGEMENT_ACTIVE_FUNDS    PUSH   SENT  user_4151   \n",
       "3  REENGAGEMENT_ACTIVE_FUNDS    PUSH   SENT  user_1408   \n",
       "4  REENGAGEMENT_ACTIVE_FUNDS    PUSH   SENT  user_6292   \n",
       "\n",
       "                created_date  \n",
       "0 2018-12-02 17:58:33.320645  \n",
       "1 2018-12-01 23:09:37.367127  \n",
       "2 2018-12-04 02:57:56.425660  \n",
       "3 2018-12-11 02:04:46.284683  \n",
       "4 2018-12-14 17:09:58.900808  "
      ]
     },
     "execution_count": 7,
     "metadata": {},
     "output_type": "execute_result"
    }
   ],
   "source": [
    "notifications = pd.read_sql_query(\"\"\"SELECT * \n",
    "                                     FROM notifications;\n",
    "                                     \"\"\", cnx)\n",
    "print(notifications.shape)\n",
    "notifications.head()"
   ]
  },
  {
   "cell_type": "code",
   "execution_count": 8,
   "metadata": {
    "ExecuteTime": {
     "end_time": "2019-11-20T12:10:11.179115Z",
     "start_time": "2019-11-20T12:10:11.149247Z"
    }
   },
   "outputs": [
    {
     "data": {
      "text/plain": [
       "REENGAGEMENT_ACTIVE_FUNDS               35844\n",
       "FIFTH_PAYMENT_PROMO                     23743\n",
       "NO_INITIAL_CARD_USE                     11221\n",
       "NO_INITIAL_CARD_ORDER                   11136\n",
       "METAL_GAME_START                         8373\n",
       "LOST_CARD_ORDER                          6146\n",
       "NO_INITIAL_FREE_PROMOPAGE_CARD_ORDER     5459\n",
       "JOINING_ANNIVERSARY                      4158\n",
       "MADE_MONEY_REQUEST_NOT_SPLIT_BILL        3506\n",
       "ONBOARDING_TIPS_ACTIVATED_USERS          3145\n",
       "ENGAGEMENT_SPLIT_BILL_RESTAURANT         2298\n",
       "BLACK_FRIDAY                             2109\n",
       "METAL_RESERVE_PLAN                       1233\n",
       "PREMIUM_ENGAGEMENT_INACTIVE_CARD         1124\n",
       "WELCOME_HOME                              950\n",
       "PUMPKIN_PAYMENT_NOTIFICATION              690\n",
       "PREMIUM_ENGAGEMENT_FEES_SAVED             678\n",
       "Name: reason, dtype: int64"
      ]
     },
     "execution_count": 8,
     "metadata": {},
     "output_type": "execute_result"
    }
   ],
   "source": [
    "notifications.reason.value_counts()"
   ]
  },
  {
   "cell_type": "code",
   "execution_count": 9,
   "metadata": {
    "ExecuteTime": {
     "end_time": "2019-11-20T12:10:45.248071Z",
     "start_time": "2019-11-20T12:10:11.190130Z"
    }
   },
   "outputs": [
    {
     "name": "stdout",
     "output_type": "stream",
     "text": [
      "(2700132, 12)\n"
     ]
    },
    {
     "data": {
      "text/html": [
       "<div>\n",
       "<style scoped>\n",
       "    .dataframe tbody tr th:only-of-type {\n",
       "        vertical-align: middle;\n",
       "    }\n",
       "\n",
       "    .dataframe tbody tr th {\n",
       "        vertical-align: top;\n",
       "    }\n",
       "\n",
       "    .dataframe thead th {\n",
       "        text-align: right;\n",
       "    }\n",
       "</style>\n",
       "<table border=\"1\" class=\"dataframe\">\n",
       "  <thead>\n",
       "    <tr style=\"text-align: right;\">\n",
       "      <th></th>\n",
       "      <th>transaction_id</th>\n",
       "      <th>transactions_type</th>\n",
       "      <th>transactions_currency</th>\n",
       "      <th>amount_usd</th>\n",
       "      <th>transactions_state</th>\n",
       "      <th>ea_cardholderpresence</th>\n",
       "      <th>ea_merchant_mcc</th>\n",
       "      <th>ea_merchant_city</th>\n",
       "      <th>ea_merchant_country</th>\n",
       "      <th>direction</th>\n",
       "      <th>user_id</th>\n",
       "      <th>created_date</th>\n",
       "    </tr>\n",
       "  </thead>\n",
       "  <tbody>\n",
       "    <tr>\n",
       "      <th>0</th>\n",
       "      <td>transaction_362571</td>\n",
       "      <td>TOPUP</td>\n",
       "      <td>PLN</td>\n",
       "      <td>0.20</td>\n",
       "      <td>REVERTED</td>\n",
       "      <td>None</td>\n",
       "      <td>NaN</td>\n",
       "      <td>None</td>\n",
       "      <td>None</td>\n",
       "      <td>INBOUND</td>\n",
       "      <td>user_0</td>\n",
       "      <td>2018-01-16 23:23:48.330466</td>\n",
       "    </tr>\n",
       "    <tr>\n",
       "      <th>1</th>\n",
       "      <td>transaction_237281</td>\n",
       "      <td>TOPUP</td>\n",
       "      <td>PLN</td>\n",
       "      <td>39.77</td>\n",
       "      <td>COMPLETED</td>\n",
       "      <td>None</td>\n",
       "      <td>NaN</td>\n",
       "      <td>None</td>\n",
       "      <td>None</td>\n",
       "      <td>INBOUND</td>\n",
       "      <td>user_0</td>\n",
       "      <td>2018-01-16 23:24:18.666466</td>\n",
       "    </tr>\n",
       "    <tr>\n",
       "      <th>2</th>\n",
       "      <td>transaction_233675</td>\n",
       "      <td>EXCHANGE</td>\n",
       "      <td>PLN</td>\n",
       "      <td>37.78</td>\n",
       "      <td>COMPLETED</td>\n",
       "      <td>None</td>\n",
       "      <td>NaN</td>\n",
       "      <td>None</td>\n",
       "      <td>None</td>\n",
       "      <td>OUTBOUND</td>\n",
       "      <td>user_0</td>\n",
       "      <td>2018-01-17 01:39:17.613466</td>\n",
       "    </tr>\n",
       "    <tr>\n",
       "      <th>3</th>\n",
       "      <td>transaction_546121</td>\n",
       "      <td>TRANSFER</td>\n",
       "      <td>EUR</td>\n",
       "      <td>5.66</td>\n",
       "      <td>COMPLETED</td>\n",
       "      <td>None</td>\n",
       "      <td>NaN</td>\n",
       "      <td>None</td>\n",
       "      <td>None</td>\n",
       "      <td>OUTBOUND</td>\n",
       "      <td>user_0</td>\n",
       "      <td>2018-01-17 01:52:38.943466</td>\n",
       "    </tr>\n",
       "    <tr>\n",
       "      <th>4</th>\n",
       "      <td>transaction_545586</td>\n",
       "      <td>TRANSFER</td>\n",
       "      <td>EUR</td>\n",
       "      <td>4.26</td>\n",
       "      <td>COMPLETED</td>\n",
       "      <td>None</td>\n",
       "      <td>NaN</td>\n",
       "      <td>None</td>\n",
       "      <td>None</td>\n",
       "      <td>OUTBOUND</td>\n",
       "      <td>user_0</td>\n",
       "      <td>2018-01-17 07:49:06.142466</td>\n",
       "    </tr>\n",
       "  </tbody>\n",
       "</table>\n",
       "</div>"
      ],
      "text/plain": [
       "       transaction_id transactions_type transactions_currency  amount_usd  \\\n",
       "0  transaction_362571             TOPUP                   PLN        0.20   \n",
       "1  transaction_237281             TOPUP                   PLN       39.77   \n",
       "2  transaction_233675          EXCHANGE                   PLN       37.78   \n",
       "3  transaction_546121          TRANSFER                   EUR        5.66   \n",
       "4  transaction_545586          TRANSFER                   EUR        4.26   \n",
       "\n",
       "  transactions_state ea_cardholderpresence  ea_merchant_mcc ea_merchant_city  \\\n",
       "0           REVERTED                  None              NaN             None   \n",
       "1          COMPLETED                  None              NaN             None   \n",
       "2          COMPLETED                  None              NaN             None   \n",
       "3          COMPLETED                  None              NaN             None   \n",
       "4          COMPLETED                  None              NaN             None   \n",
       "\n",
       "  ea_merchant_country direction user_id               created_date  \n",
       "0                None   INBOUND  user_0 2018-01-16 23:23:48.330466  \n",
       "1                None   INBOUND  user_0 2018-01-16 23:24:18.666466  \n",
       "2                None  OUTBOUND  user_0 2018-01-17 01:39:17.613466  \n",
       "3                None  OUTBOUND  user_0 2018-01-17 01:52:38.943466  \n",
       "4                None  OUTBOUND  user_0 2018-01-17 07:49:06.142466  "
      ]
     },
     "execution_count": 9,
     "metadata": {},
     "output_type": "execute_result"
    }
   ],
   "source": [
    "transactions = pd.read_sql_query(\"\"\"SELECT * \n",
    "                                    FROM transactions\n",
    "                                    -- excluding transaction types that I believe are passive\n",
    "                                    WHERE transactions_type NOT IN ('FEE', 'TAX', 'REFUND', 'CARD_REFUND')\n",
    "                                    ORDER BY user_id, created_date;\n",
    "                                    \"\"\", cnx)\n",
    "\n",
    "print(transactions.shape)\n",
    "transactions.head()"
   ]
  },
  {
   "cell_type": "code",
   "execution_count": 10,
   "metadata": {
    "ExecuteTime": {
     "end_time": "2019-11-20T12:10:45.513390Z",
     "start_time": "2019-11-20T12:10:45.252299Z"
    }
   },
   "outputs": [
    {
     "name": "stdout",
     "output_type": "stream",
     "text": [
      "(19430, 15)\n"
     ]
    },
    {
     "data": {
      "text/html": [
       "<div>\n",
       "<style scoped>\n",
       "    .dataframe tbody tr th:only-of-type {\n",
       "        vertical-align: middle;\n",
       "    }\n",
       "\n",
       "    .dataframe tbody tr th {\n",
       "        vertical-align: top;\n",
       "    }\n",
       "\n",
       "    .dataframe thead th {\n",
       "        text-align: right;\n",
       "    }\n",
       "</style>\n",
       "<table border=\"1\" class=\"dataframe\">\n",
       "  <thead>\n",
       "    <tr style=\"text-align: right;\">\n",
       "      <th></th>\n",
       "      <th>user_id</th>\n",
       "      <th>birth_year</th>\n",
       "      <th>country</th>\n",
       "      <th>city</th>\n",
       "      <th>created_date</th>\n",
       "      <th>user_settings_crypto_unlocked</th>\n",
       "      <th>plan</th>\n",
       "      <th>attributes_notifications_marketing_push</th>\n",
       "      <th>attributes_notifications_marketing_email</th>\n",
       "      <th>num_contacts</th>\n",
       "      <th>num_referrals</th>\n",
       "      <th>num_successful_referrals</th>\n",
       "      <th>age</th>\n",
       "      <th>age_group</th>\n",
       "      <th>plan_group</th>\n",
       "    </tr>\n",
       "  </thead>\n",
       "  <tbody>\n",
       "    <tr>\n",
       "      <th>0</th>\n",
       "      <td>user_0</td>\n",
       "      <td>1989</td>\n",
       "      <td>PL</td>\n",
       "      <td>Gdansk</td>\n",
       "      <td>2018-01-13 05:15:15.599466</td>\n",
       "      <td>1</td>\n",
       "      <td>STANDARD</td>\n",
       "      <td>1.0</td>\n",
       "      <td>1.0</td>\n",
       "      <td>3</td>\n",
       "      <td>0</td>\n",
       "      <td>0</td>\n",
       "      <td>30.0</td>\n",
       "      <td>28-37</td>\n",
       "      <td>STANDARD</td>\n",
       "    </tr>\n",
       "    <tr>\n",
       "      <th>1</th>\n",
       "      <td>user_1</td>\n",
       "      <td>1975</td>\n",
       "      <td>GB</td>\n",
       "      <td>London</td>\n",
       "      <td>2018-01-29 03:38:46.676876</td>\n",
       "      <td>0</td>\n",
       "      <td>STANDARD</td>\n",
       "      <td>NaN</td>\n",
       "      <td>NaN</td>\n",
       "      <td>21</td>\n",
       "      <td>0</td>\n",
       "      <td>0</td>\n",
       "      <td>44.0</td>\n",
       "      <td>38-47</td>\n",
       "      <td>STANDARD</td>\n",
       "    </tr>\n",
       "    <tr>\n",
       "      <th>2</th>\n",
       "      <td>user_2</td>\n",
       "      <td>1987</td>\n",
       "      <td>PL</td>\n",
       "      <td>Poznań</td>\n",
       "      <td>2018-01-18 19:17:31.229096</td>\n",
       "      <td>0</td>\n",
       "      <td>STANDARD</td>\n",
       "      <td>0.0</td>\n",
       "      <td>0.0</td>\n",
       "      <td>21</td>\n",
       "      <td>0</td>\n",
       "      <td>0</td>\n",
       "      <td>32.0</td>\n",
       "      <td>28-37</td>\n",
       "      <td>STANDARD</td>\n",
       "    </tr>\n",
       "    <tr>\n",
       "      <th>3</th>\n",
       "      <td>user_3</td>\n",
       "      <td>1994</td>\n",
       "      <td>FR</td>\n",
       "      <td>Paris</td>\n",
       "      <td>2018-01-15 18:47:56.723104</td>\n",
       "      <td>0</td>\n",
       "      <td>STANDARD</td>\n",
       "      <td>1.0</td>\n",
       "      <td>0.0</td>\n",
       "      <td>0</td>\n",
       "      <td>0</td>\n",
       "      <td>0</td>\n",
       "      <td>25.0</td>\n",
       "      <td>18-27</td>\n",
       "      <td>STANDARD</td>\n",
       "    </tr>\n",
       "    <tr>\n",
       "      <th>4</th>\n",
       "      <td>user_4</td>\n",
       "      <td>1985</td>\n",
       "      <td>GB</td>\n",
       "      <td>Beckenham</td>\n",
       "      <td>2018-01-11 00:36:46.673673</td>\n",
       "      <td>0</td>\n",
       "      <td>STANDARD</td>\n",
       "      <td>NaN</td>\n",
       "      <td>NaN</td>\n",
       "      <td>2</td>\n",
       "      <td>0</td>\n",
       "      <td>0</td>\n",
       "      <td>34.0</td>\n",
       "      <td>28-37</td>\n",
       "      <td>STANDARD</td>\n",
       "    </tr>\n",
       "  </tbody>\n",
       "</table>\n",
       "</div>"
      ],
      "text/plain": [
       "  user_id  birth_year country       city               created_date  \\\n",
       "0  user_0        1989      PL     Gdansk 2018-01-13 05:15:15.599466   \n",
       "1  user_1        1975      GB     London 2018-01-29 03:38:46.676876   \n",
       "2  user_2        1987      PL     Poznań 2018-01-18 19:17:31.229096   \n",
       "3  user_3        1994      FR      Paris 2018-01-15 18:47:56.723104   \n",
       "4  user_4        1985      GB  Beckenham 2018-01-11 00:36:46.673673   \n",
       "\n",
       "   user_settings_crypto_unlocked      plan  \\\n",
       "0                              1  STANDARD   \n",
       "1                              0  STANDARD   \n",
       "2                              0  STANDARD   \n",
       "3                              0  STANDARD   \n",
       "4                              0  STANDARD   \n",
       "\n",
       "   attributes_notifications_marketing_push  \\\n",
       "0                                      1.0   \n",
       "1                                      NaN   \n",
       "2                                      0.0   \n",
       "3                                      1.0   \n",
       "4                                      NaN   \n",
       "\n",
       "   attributes_notifications_marketing_email  num_contacts  num_referrals  \\\n",
       "0                                       1.0             3              0   \n",
       "1                                       NaN            21              0   \n",
       "2                                       0.0            21              0   \n",
       "3                                       0.0             0              0   \n",
       "4                                       NaN             2              0   \n",
       "\n",
       "   num_successful_referrals   age age_group plan_group  \n",
       "0                         0  30.0     28-37   STANDARD  \n",
       "1                         0  44.0     38-47   STANDARD  \n",
       "2                         0  32.0     28-37   STANDARD  \n",
       "3                         0  25.0     18-27   STANDARD  \n",
       "4                         0  34.0     28-37   STANDARD  "
      ]
     },
     "execution_count": 10,
     "metadata": {},
     "output_type": "execute_result"
    }
   ],
   "source": [
    "# users with age, age category and plan grouped\n",
    "\n",
    "query = \"\"\"\n",
    "    WITH users_age_group AS (\n",
    "             WITH users_age AS (\n",
    "                SELECT *\n",
    "                ,date_part('year', CURRENT_DATE) - birth_year AS age\n",
    "                FROM users)\n",
    "            SELECT * \n",
    "                   ,CASE WHEN age < 28 THEN '18-27' \n",
    "                         WHEN age < 38 THEN '28-37'\n",
    "                         WHEN age < 48 THEN '38-47'\n",
    "                         WHEN age < 58 THEN '48-57'\n",
    "                         WHEN age < 68 THEN '58-67'\n",
    "                         WHEN age < 78 THEN '68-77'\n",
    "                         -- very small portion of customers over 77 (25 customers)\n",
    "                         ELSE '78+'\n",
    "                    END AS age_group\n",
    "                    ,CASE WHEN plan = 'STANDARD' THEN 'STANDARD'\n",
    "                          ELSE 'NON-STANDARD' \n",
    "                    END AS plan_group\n",
    "                   \n",
    "            FROM users_age)\n",
    "\n",
    "    SELECT *      \n",
    "    FROM users_age_group;\n",
    "\"\"\"\n",
    "\n",
    "users = pd.read_sql_query(query, cnx)\n",
    "\n",
    "print(users.shape)\n",
    "users.head()"
   ]
  },
  {
   "cell_type": "code",
   "execution_count": 11,
   "metadata": {
    "ExecuteTime": {
     "end_time": "2019-11-20T12:10:47.049554Z",
     "start_time": "2019-11-20T12:10:45.516573Z"
    }
   },
   "outputs": [],
   "source": [
    "from functools import reduce\n",
    "\n",
    "# aggregate data to create a user level table --- TIDY THIS CODE \n",
    "\n",
    "# first transaction date\n",
    "df_1 = pd.DataFrame(\n",
    "           transactions.groupby('user_id').created_date.first()).rename(\n",
    "               columns={\"created_date\": \"first_transaction_date\"})\n",
    "\n",
    "# last transaction date\n",
    "df_2 = pd.DataFrame(\n",
    "            transactions.groupby('user_id').created_date.last()).rename(\n",
    "                columns={\"created_date\": \"last_transaction_date\"})\n",
    "\n",
    "\n",
    "# total number of transactions\n",
    "df_3 = pd.DataFrame(\n",
    "            transactions.groupby('user_id').transaction_id.count()).rename(\n",
    "                columns={\"transaction_id\": \"total_transactions\"})\n",
    "\n",
    "dfs = [df_1, df_2, df_3]\n",
    "\n",
    "user_transactions_agg = reduce(lambda left,right: pd.merge(left,right,on='user_id'), dfs)\n",
    "\n",
    "# number of days since last transaction since May 2019 (cut off date of dataset)\n",
    "\n",
    "user_transactions_agg['recency_days'] = user_transactions_agg['last_transaction_date'].max() - user_transactions_agg['last_transaction_date']\n",
    "user_transactions_agg['recency_days'] = user_transactions_agg['recency_days'].dt.days.astype('int16')\n"
   ]
  },
  {
   "cell_type": "code",
   "execution_count": 12,
   "metadata": {
    "ExecuteTime": {
     "end_time": "2019-11-20T12:10:47.159781Z",
     "start_time": "2019-11-20T12:10:47.051115Z"
    }
   },
   "outputs": [],
   "source": [
    "# merge user level transaction features onto orignal users table\n",
    "user_agg = user_transactions_agg.merge(users, on=\"user_id\")\n",
    "\n",
    "# tenure of user\n",
    "user_agg['tenure_days'] = user_agg['last_transaction_date'].max() - user_agg['created_date']\n",
    "user_agg['tenure_days'] = user_agg['tenure_days'].dt.days.astype('int16')\n",
    "\n",
    "# average transaction rate - could be used as a proxy measure to define user engagement\n",
    "user_agg['avg_transaction_rate'] = round(user_agg['total_transactions']/user_agg['tenure_days'],2)\n",
    "\n",
    "# merge devices\n",
    "user_agg = user_agg.merge(devices, on=\"user_id\")"
   ]
  },
  {
   "cell_type": "code",
   "execution_count": 13,
   "metadata": {
    "ExecuteTime": {
     "end_time": "2019-11-20T12:10:47.191663Z",
     "start_time": "2019-11-20T12:10:47.164079Z"
    }
   },
   "outputs": [],
   "source": [
    "# drop columns that are not going to used in the model\n",
    "user_agg.drop(['first_transaction_date', \n",
    "               'last_transaction_date',\n",
    "               'created_date',\n",
    "               'birth_year',\n",
    "               # Due to time limitations, dropping cities, and using just country. \n",
    "               # Also, spotted combinations of city names and postcodes in the city field\n",
    "               'city',\n",
    "               # using age group instead of age\n",
    "               'age',\n",
    "               'plan'], axis=1, inplace=True)"
   ]
  },
  {
   "cell_type": "code",
   "execution_count": 14,
   "metadata": {
    "ExecuteTime": {
     "end_time": "2019-11-20T12:10:47.730137Z",
     "start_time": "2019-11-20T12:10:47.194555Z"
    }
   },
   "outputs": [],
   "source": [
    "# pickle file\n",
    "user_agg.to_pickle(\"../data/processed/user_agg.pkl\")"
   ]
  },
  {
   "cell_type": "markdown",
   "metadata": {},
   "source": [
    "##### Creating and exploring the target variable: Engagement"
   ]
  },
  {
   "cell_type": "code",
   "execution_count": 15,
   "metadata": {
    "ExecuteTime": {
     "end_time": "2019-11-20T12:10:47.765338Z",
     "start_time": "2019-11-20T12:10:47.731805Z"
    }
   },
   "outputs": [
    {
     "data": {
      "text/html": [
       "<div>\n",
       "<style scoped>\n",
       "    .dataframe tbody tr th:only-of-type {\n",
       "        vertical-align: middle;\n",
       "    }\n",
       "\n",
       "    .dataframe tbody tr th {\n",
       "        vertical-align: top;\n",
       "    }\n",
       "\n",
       "    .dataframe thead th {\n",
       "        text-align: right;\n",
       "    }\n",
       "</style>\n",
       "<table border=\"1\" class=\"dataframe\">\n",
       "  <thead>\n",
       "    <tr style=\"text-align: right;\">\n",
       "      <th></th>\n",
       "      <th>user_id</th>\n",
       "      <th>total_transactions</th>\n",
       "      <th>recency_days</th>\n",
       "      <th>country</th>\n",
       "      <th>user_settings_crypto_unlocked</th>\n",
       "      <th>attributes_notifications_marketing_push</th>\n",
       "      <th>attributes_notifications_marketing_email</th>\n",
       "      <th>num_contacts</th>\n",
       "      <th>num_referrals</th>\n",
       "      <th>num_successful_referrals</th>\n",
       "      <th>age_group</th>\n",
       "      <th>plan_group</th>\n",
       "      <th>tenure_days</th>\n",
       "      <th>avg_transaction_rate</th>\n",
       "      <th>brand</th>\n",
       "    </tr>\n",
       "  </thead>\n",
       "  <tbody>\n",
       "    <tr>\n",
       "      <th>0</th>\n",
       "      <td>user_0</td>\n",
       "      <td>385</td>\n",
       "      <td>14</td>\n",
       "      <td>PL</td>\n",
       "      <td>1</td>\n",
       "      <td>1.0</td>\n",
       "      <td>1.0</td>\n",
       "      <td>3</td>\n",
       "      <td>0</td>\n",
       "      <td>0</td>\n",
       "      <td>28-37</td>\n",
       "      <td>STANDARD</td>\n",
       "      <td>488</td>\n",
       "      <td>0.79</td>\n",
       "      <td>Apple</td>\n",
       "    </tr>\n",
       "    <tr>\n",
       "      <th>1</th>\n",
       "      <td>user_1</td>\n",
       "      <td>126</td>\n",
       "      <td>78</td>\n",
       "      <td>GB</td>\n",
       "      <td>0</td>\n",
       "      <td>NaN</td>\n",
       "      <td>NaN</td>\n",
       "      <td>21</td>\n",
       "      <td>0</td>\n",
       "      <td>0</td>\n",
       "      <td>38-47</td>\n",
       "      <td>STANDARD</td>\n",
       "      <td>472</td>\n",
       "      <td>0.27</td>\n",
       "      <td>Apple</td>\n",
       "    </tr>\n",
       "    <tr>\n",
       "      <th>2</th>\n",
       "      <td>user_10</td>\n",
       "      <td>1046</td>\n",
       "      <td>5</td>\n",
       "      <td>FR</td>\n",
       "      <td>0</td>\n",
       "      <td>1.0</td>\n",
       "      <td>1.0</td>\n",
       "      <td>38</td>\n",
       "      <td>0</td>\n",
       "      <td>0</td>\n",
       "      <td>38-47</td>\n",
       "      <td>STANDARD</td>\n",
       "      <td>497</td>\n",
       "      <td>2.10</td>\n",
       "      <td>Apple</td>\n",
       "    </tr>\n",
       "    <tr>\n",
       "      <th>3</th>\n",
       "      <td>user_100</td>\n",
       "      <td>130</td>\n",
       "      <td>9</td>\n",
       "      <td>GB</td>\n",
       "      <td>0</td>\n",
       "      <td>NaN</td>\n",
       "      <td>NaN</td>\n",
       "      <td>0</td>\n",
       "      <td>0</td>\n",
       "      <td>0</td>\n",
       "      <td>48-57</td>\n",
       "      <td>STANDARD</td>\n",
       "      <td>486</td>\n",
       "      <td>0.27</td>\n",
       "      <td>Apple</td>\n",
       "    </tr>\n",
       "    <tr>\n",
       "      <th>4</th>\n",
       "      <td>user_1000</td>\n",
       "      <td>39</td>\n",
       "      <td>324</td>\n",
       "      <td>GB</td>\n",
       "      <td>1</td>\n",
       "      <td>1.0</td>\n",
       "      <td>1.0</td>\n",
       "      <td>0</td>\n",
       "      <td>0</td>\n",
       "      <td>0</td>\n",
       "      <td>58-67</td>\n",
       "      <td>STANDARD</td>\n",
       "      <td>495</td>\n",
       "      <td>0.08</td>\n",
       "      <td>Android</td>\n",
       "    </tr>\n",
       "  </tbody>\n",
       "</table>\n",
       "</div>"
      ],
      "text/plain": [
       "     user_id  total_transactions  recency_days country  \\\n",
       "0     user_0                 385            14      PL   \n",
       "1     user_1                 126            78      GB   \n",
       "2    user_10                1046             5      FR   \n",
       "3   user_100                 130             9      GB   \n",
       "4  user_1000                  39           324      GB   \n",
       "\n",
       "   user_settings_crypto_unlocked  attributes_notifications_marketing_push  \\\n",
       "0                              1                                      1.0   \n",
       "1                              0                                      NaN   \n",
       "2                              0                                      1.0   \n",
       "3                              0                                      NaN   \n",
       "4                              1                                      1.0   \n",
       "\n",
       "   attributes_notifications_marketing_email  num_contacts  num_referrals  \\\n",
       "0                                       1.0             3              0   \n",
       "1                                       NaN            21              0   \n",
       "2                                       1.0            38              0   \n",
       "3                                       NaN             0              0   \n",
       "4                                       1.0             0              0   \n",
       "\n",
       "   num_successful_referrals age_group plan_group  tenure_days  \\\n",
       "0                         0     28-37   STANDARD          488   \n",
       "1                         0     38-47   STANDARD          472   \n",
       "2                         0     38-47   STANDARD          497   \n",
       "3                         0     48-57   STANDARD          486   \n",
       "4                         0     58-67   STANDARD          495   \n",
       "\n",
       "   avg_transaction_rate    brand  \n",
       "0                  0.79    Apple  \n",
       "1                  0.27    Apple  \n",
       "2                  2.10    Apple  \n",
       "3                  0.27    Apple  \n",
       "4                  0.08  Android  "
      ]
     },
     "execution_count": 15,
     "metadata": {},
     "output_type": "execute_result"
    }
   ],
   "source": [
    "user_agg = pd.read_pickle(\"../data/processed/user_agg.pkl\")\n",
    "\n",
    "user_agg.head()"
   ]
  },
  {
   "cell_type": "markdown",
   "metadata": {
    "ExecuteTime": {
     "end_time": "2019-11-07T14:06:40.532478Z",
     "start_time": "2019-11-07T14:06:40.527108Z"
    }
   },
   "source": [
    "<a id=\"Fig_2\"></a>"
   ]
  },
  {
   "cell_type": "code",
   "execution_count": 93,
   "metadata": {
    "ExecuteTime": {
     "end_time": "2019-11-20T12:42:33.878641Z",
     "start_time": "2019-11-20T12:42:33.870130Z"
    }
   },
   "outputs": [
    {
     "data": {
      "text/plain": [
       "58.36445108289768"
      ]
     },
     "execution_count": 93,
     "metadata": {},
     "output_type": "execute_result"
    }
   ],
   "source": [
    "user_agg.avg_transaction_rate[user_agg.recency_days < 30].shape[0]/user_agg.shape[0]*100"
   ]
  },
  {
   "cell_type": "code",
   "execution_count": 75,
   "metadata": {
    "ExecuteTime": {
     "end_time": "2019-11-20T12:31:26.273301Z",
     "start_time": "2019-11-20T12:31:26.034142Z"
    }
   },
   "outputs": [
    {
     "name": "stdout",
     "output_type": "stream",
     "text": [
      "count    10941.000000\n",
      "mean         0.749621\n",
      "std          0.969945\n",
      "min          0.000000\n",
      "25%          0.190000\n",
      "50%          0.420000\n",
      "75%          0.920000\n",
      "max         21.880000\n",
      "Name: avg_transaction_rate, dtype: float64\n"
     ]
    },
    {
     "data": {
      "image/png": "[encoded data removed]",
      "text/plain": [
       "<Figure size 1080x540 with 1 Axes>"
      ]
     },
     "metadata": {
      "needs_background": "light"
     },
     "output_type": "display_data"
    }
   ],
   "source": [
    "# distribution of average transaction rate\n",
    "rcParams['figure.figsize'] = 15, 7.5\n",
    "\n",
    "# transaction rates of customrs who have been active in the last 30 days, to define user engagement\n",
    "sns.distplot(user_agg[user_agg.recency_days < 30].avg_transaction_rate).set_title('Average Transaction Rates of Active Customers');\n",
    "\n",
    "print(user_agg.avg_transaction_rate[user_agg.recency_days < 30].describe())"
   ]
  },
  {
   "cell_type": "code",
   "execution_count": 83,
   "metadata": {
    "ExecuteTime": {
     "end_time": "2019-11-20T12:35:45.608748Z",
     "start_time": "2019-11-20T12:35:45.355350Z"
    }
   },
   "outputs": [
    {
     "data": {
      "image/png": "[encoded data removed]",
      "text/plain": [
       "<Figure size 1080x540 with 1 Axes>"
      ]
     },
     "metadata": {},
     "output_type": "display_data"
    }
   ],
   "source": [
    "sns.set(style=\"whitegrid\")\n",
    "sns.violinplot(user_agg.avg_transaction_rate[user_agg.recency_days < 30]);"
   ]
  },
  {
   "cell_type": "code",
   "execution_count": 17,
   "metadata": {
    "ExecuteTime": {
     "end_time": "2019-11-20T12:10:48.024085Z",
     "start_time": "2019-11-20T12:10:47.995879Z"
    }
   },
   "outputs": [
    {
     "data": {
      "text/plain": [
       "Yes    9796\n",
       "No     8950\n",
       "Name: engaged_user, dtype: int64"
      ]
     },
     "execution_count": 17,
     "metadata": {},
     "output_type": "execute_result"
    }
   ],
   "source": [
    "# create target variable, where 1 is an engaged user and 0 is an unengaged user\n",
    "# no imbalanced data issues\n",
    "\n",
    "user_agg.loc[user_agg.avg_transaction_rate >= 0.2, 'engaged_user'] = \"Yes\" \n",
    "user_agg.loc[user_agg.avg_transaction_rate < 0.2, 'engaged_user'] = \"No\"\n",
    "\n",
    "# user_agg.drop(['avg_transaction_rate'], axis=1, inplace=True)\n",
    "\n",
    "user_agg.engaged_user.value_counts()"
   ]
  },
  {
   "cell_type": "markdown",
   "metadata": {},
   "source": [
    "##### Exploring the Data"
   ]
  },
  {
   "cell_type": "code",
   "execution_count": 18,
   "metadata": {
    "ExecuteTime": {
     "end_time": "2019-11-20T12:10:48.051848Z",
     "start_time": "2019-11-20T12:10:48.026191Z"
    }
   },
   "outputs": [
    {
     "name": "stdout",
     "output_type": "stream",
     "text": [
      "# of users: 18746\n"
     ]
    },
    {
     "data": {
      "text/html": [
       "<div>\n",
       "<style scoped>\n",
       "    .dataframe tbody tr th:only-of-type {\n",
       "        vertical-align: middle;\n",
       "    }\n",
       "\n",
       "    .dataframe tbody tr th {\n",
       "        vertical-align: top;\n",
       "    }\n",
       "\n",
       "    .dataframe thead th {\n",
       "        text-align: right;\n",
       "    }\n",
       "</style>\n",
       "<table border=\"1\" class=\"dataframe\">\n",
       "  <thead>\n",
       "    <tr style=\"text-align: right;\">\n",
       "      <th></th>\n",
       "      <th>user_id</th>\n",
       "      <th>total_transactions</th>\n",
       "      <th>recency_days</th>\n",
       "      <th>country</th>\n",
       "      <th>user_settings_crypto_unlocked</th>\n",
       "      <th>attributes_notifications_marketing_push</th>\n",
       "      <th>attributes_notifications_marketing_email</th>\n",
       "      <th>num_contacts</th>\n",
       "      <th>num_referrals</th>\n",
       "      <th>num_successful_referrals</th>\n",
       "      <th>age_group</th>\n",
       "      <th>plan_group</th>\n",
       "      <th>tenure_days</th>\n",
       "      <th>avg_transaction_rate</th>\n",
       "      <th>brand</th>\n",
       "      <th>engaged_user</th>\n",
       "    </tr>\n",
       "  </thead>\n",
       "  <tbody>\n",
       "    <tr>\n",
       "      <th>0</th>\n",
       "      <td>user_0</td>\n",
       "      <td>385</td>\n",
       "      <td>14</td>\n",
       "      <td>PL</td>\n",
       "      <td>1</td>\n",
       "      <td>1.0</td>\n",
       "      <td>1.0</td>\n",
       "      <td>3</td>\n",
       "      <td>0</td>\n",
       "      <td>0</td>\n",
       "      <td>28-37</td>\n",
       "      <td>STANDARD</td>\n",
       "      <td>488</td>\n",
       "      <td>0.79</td>\n",
       "      <td>Apple</td>\n",
       "      <td>Yes</td>\n",
       "    </tr>\n",
       "    <tr>\n",
       "      <th>1</th>\n",
       "      <td>user_1</td>\n",
       "      <td>126</td>\n",
       "      <td>78</td>\n",
       "      <td>GB</td>\n",
       "      <td>0</td>\n",
       "      <td>NaN</td>\n",
       "      <td>NaN</td>\n",
       "      <td>21</td>\n",
       "      <td>0</td>\n",
       "      <td>0</td>\n",
       "      <td>38-47</td>\n",
       "      <td>STANDARD</td>\n",
       "      <td>472</td>\n",
       "      <td>0.27</td>\n",
       "      <td>Apple</td>\n",
       "      <td>Yes</td>\n",
       "    </tr>\n",
       "    <tr>\n",
       "      <th>2</th>\n",
       "      <td>user_10</td>\n",
       "      <td>1046</td>\n",
       "      <td>5</td>\n",
       "      <td>FR</td>\n",
       "      <td>0</td>\n",
       "      <td>1.0</td>\n",
       "      <td>1.0</td>\n",
       "      <td>38</td>\n",
       "      <td>0</td>\n",
       "      <td>0</td>\n",
       "      <td>38-47</td>\n",
       "      <td>STANDARD</td>\n",
       "      <td>497</td>\n",
       "      <td>2.10</td>\n",
       "      <td>Apple</td>\n",
       "      <td>Yes</td>\n",
       "    </tr>\n",
       "    <tr>\n",
       "      <th>3</th>\n",
       "      <td>user_100</td>\n",
       "      <td>130</td>\n",
       "      <td>9</td>\n",
       "      <td>GB</td>\n",
       "      <td>0</td>\n",
       "      <td>NaN</td>\n",
       "      <td>NaN</td>\n",
       "      <td>0</td>\n",
       "      <td>0</td>\n",
       "      <td>0</td>\n",
       "      <td>48-57</td>\n",
       "      <td>STANDARD</td>\n",
       "      <td>486</td>\n",
       "      <td>0.27</td>\n",
       "      <td>Apple</td>\n",
       "      <td>Yes</td>\n",
       "    </tr>\n",
       "    <tr>\n",
       "      <th>4</th>\n",
       "      <td>user_1000</td>\n",
       "      <td>39</td>\n",
       "      <td>324</td>\n",
       "      <td>GB</td>\n",
       "      <td>1</td>\n",
       "      <td>1.0</td>\n",
       "      <td>1.0</td>\n",
       "      <td>0</td>\n",
       "      <td>0</td>\n",
       "      <td>0</td>\n",
       "      <td>58-67</td>\n",
       "      <td>STANDARD</td>\n",
       "      <td>495</td>\n",
       "      <td>0.08</td>\n",
       "      <td>Android</td>\n",
       "      <td>No</td>\n",
       "    </tr>\n",
       "  </tbody>\n",
       "</table>\n",
       "</div>"
      ],
      "text/plain": [
       "     user_id  total_transactions  recency_days country  \\\n",
       "0     user_0                 385            14      PL   \n",
       "1     user_1                 126            78      GB   \n",
       "2    user_10                1046             5      FR   \n",
       "3   user_100                 130             9      GB   \n",
       "4  user_1000                  39           324      GB   \n",
       "\n",
       "   user_settings_crypto_unlocked  attributes_notifications_marketing_push  \\\n",
       "0                              1                                      1.0   \n",
       "1                              0                                      NaN   \n",
       "2                              0                                      1.0   \n",
       "3                              0                                      NaN   \n",
       "4                              1                                      1.0   \n",
       "\n",
       "   attributes_notifications_marketing_email  num_contacts  num_referrals  \\\n",
       "0                                       1.0             3              0   \n",
       "1                                       NaN            21              0   \n",
       "2                                       1.0            38              0   \n",
       "3                                       NaN             0              0   \n",
       "4                                       1.0             0              0   \n",
       "\n",
       "   num_successful_referrals age_group plan_group  tenure_days  \\\n",
       "0                         0     28-37   STANDARD          488   \n",
       "1                         0     38-47   STANDARD          472   \n",
       "2                         0     38-47   STANDARD          497   \n",
       "3                         0     48-57   STANDARD          486   \n",
       "4                         0     58-67   STANDARD          495   \n",
       "\n",
       "   avg_transaction_rate    brand engaged_user  \n",
       "0                  0.79    Apple          Yes  \n",
       "1                  0.27    Apple          Yes  \n",
       "2                  2.10    Apple          Yes  \n",
       "3                  0.27    Apple          Yes  \n",
       "4                  0.08  Android           No  "
      ]
     },
     "execution_count": 18,
     "metadata": {},
     "output_type": "execute_result"
    }
   ],
   "source": [
    "# shape of dataset\n",
    "\n",
    "print(\"# of users:\", user_agg.shape[0])\n",
    "\n",
    "user_agg.head()"
   ]
  },
  {
   "cell_type": "code",
   "execution_count": 19,
   "metadata": {
    "ExecuteTime": {
     "end_time": "2019-11-20T12:10:48.064488Z",
     "start_time": "2019-11-20T12:10:48.054797Z"
    }
   },
   "outputs": [
    {
     "data": {
      "text/plain": [
       "{dtype('int16'): Index(['recency_days', 'tenure_days'], dtype='object'),\n",
       " dtype('int64'): Index(['total_transactions', 'user_settings_crypto_unlocked', 'num_contacts',\n",
       "        'num_referrals', 'num_successful_referrals'],\n",
       "       dtype='object'),\n",
       " dtype('float64'): Index(['attributes_notifications_marketing_push',\n",
       "        'attributes_notifications_marketing_email', 'avg_transaction_rate'],\n",
       "       dtype='object'),\n",
       " dtype('O'): Index(['user_id', 'country', 'age_group', 'plan_group', 'brand',\n",
       "        'engaged_user'],\n",
       "       dtype='object')}"
      ]
     },
     "execution_count": 19,
     "metadata": {},
     "output_type": "execute_result"
    }
   ],
   "source": [
    "# data structure \n",
    "user_agg.columns.to_series().groupby(user_agg.dtypes).groups"
   ]
  },
  {
   "cell_type": "code",
   "execution_count": 20,
   "metadata": {
    "ExecuteTime": {
     "end_time": "2019-11-20T12:10:48.118966Z",
     "start_time": "2019-11-20T12:10:48.067918Z"
    }
   },
   "outputs": [
    {
     "data": {
      "text/html": [
       "<div>\n",
       "<style scoped>\n",
       "    .dataframe tbody tr th:only-of-type {\n",
       "        vertical-align: middle;\n",
       "    }\n",
       "\n",
       "    .dataframe tbody tr th {\n",
       "        vertical-align: top;\n",
       "    }\n",
       "\n",
       "    .dataframe thead th {\n",
       "        text-align: right;\n",
       "    }\n",
       "</style>\n",
       "<table border=\"1\" class=\"dataframe\">\n",
       "  <thead>\n",
       "    <tr style=\"text-align: right;\">\n",
       "      <th></th>\n",
       "      <th>total_transactions</th>\n",
       "      <th>recency_days</th>\n",
       "      <th>user_settings_crypto_unlocked</th>\n",
       "      <th>attributes_notifications_marketing_push</th>\n",
       "      <th>attributes_notifications_marketing_email</th>\n",
       "      <th>num_contacts</th>\n",
       "      <th>num_referrals</th>\n",
       "      <th>num_successful_referrals</th>\n",
       "      <th>tenure_days</th>\n",
       "      <th>avg_transaction_rate</th>\n",
       "    </tr>\n",
       "  </thead>\n",
       "  <tbody>\n",
       "    <tr>\n",
       "      <th>count</th>\n",
       "      <td>18746.000000</td>\n",
       "      <td>18746.000000</td>\n",
       "      <td>18746.000000</td>\n",
       "      <td>12201.000000</td>\n",
       "      <td>12201.00000</td>\n",
       "      <td>18746.000000</td>\n",
       "      <td>18746.0</td>\n",
       "      <td>18746.0</td>\n",
       "      <td>18746.000000</td>\n",
       "      <td>18746.000000</td>\n",
       "    </tr>\n",
       "    <tr>\n",
       "      <th>mean</th>\n",
       "      <td>144.037768</td>\n",
       "      <td>70.413528</td>\n",
       "      <td>0.185213</td>\n",
       "      <td>0.945660</td>\n",
       "      <td>0.89550</td>\n",
       "      <td>18.428518</td>\n",
       "      <td>0.0</td>\n",
       "      <td>0.0</td>\n",
       "      <td>298.058572</td>\n",
       "      <td>0.493950</td>\n",
       "    </tr>\n",
       "    <tr>\n",
       "      <th>std</th>\n",
       "      <td>243.742826</td>\n",
       "      <td>101.150784</td>\n",
       "      <td>0.388480</td>\n",
       "      <td>0.226696</td>\n",
       "      <td>0.30592</td>\n",
       "      <td>47.219403</td>\n",
       "      <td>0.0</td>\n",
       "      <td>0.0</td>\n",
       "      <td>104.537540</td>\n",
       "      <td>0.813158</td>\n",
       "    </tr>\n",
       "    <tr>\n",
       "      <th>min</th>\n",
       "      <td>1.000000</td>\n",
       "      <td>0.000000</td>\n",
       "      <td>0.000000</td>\n",
       "      <td>0.000000</td>\n",
       "      <td>0.00000</td>\n",
       "      <td>0.000000</td>\n",
       "      <td>0.0</td>\n",
       "      <td>0.0</td>\n",
       "      <td>133.000000</td>\n",
       "      <td>0.000000</td>\n",
       "    </tr>\n",
       "    <tr>\n",
       "      <th>25%</th>\n",
       "      <td>17.000000</td>\n",
       "      <td>6.000000</td>\n",
       "      <td>0.000000</td>\n",
       "      <td>1.000000</td>\n",
       "      <td>1.00000</td>\n",
       "      <td>0.000000</td>\n",
       "      <td>0.0</td>\n",
       "      <td>0.0</td>\n",
       "      <td>207.000000</td>\n",
       "      <td>0.060000</td>\n",
       "    </tr>\n",
       "    <tr>\n",
       "      <th>50%</th>\n",
       "      <td>59.000000</td>\n",
       "      <td>18.000000</td>\n",
       "      <td>0.000000</td>\n",
       "      <td>1.000000</td>\n",
       "      <td>1.00000</td>\n",
       "      <td>5.000000</td>\n",
       "      <td>0.0</td>\n",
       "      <td>0.0</td>\n",
       "      <td>290.000000</td>\n",
       "      <td>0.210000</td>\n",
       "    </tr>\n",
       "    <tr>\n",
       "      <th>75%</th>\n",
       "      <td>164.000000</td>\n",
       "      <td>94.000000</td>\n",
       "      <td>0.000000</td>\n",
       "      <td>1.000000</td>\n",
       "      <td>1.00000</td>\n",
       "      <td>20.000000</td>\n",
       "      <td>0.0</td>\n",
       "      <td>0.0</td>\n",
       "      <td>384.000000</td>\n",
       "      <td>0.560000</td>\n",
       "    </tr>\n",
       "    <tr>\n",
       "      <th>max</th>\n",
       "      <td>5272.000000</td>\n",
       "      <td>498.000000</td>\n",
       "      <td>1.000000</td>\n",
       "      <td>1.000000</td>\n",
       "      <td>1.00000</td>\n",
       "      <td>2918.000000</td>\n",
       "      <td>0.0</td>\n",
       "      <td>0.0</td>\n",
       "      <td>500.000000</td>\n",
       "      <td>21.880000</td>\n",
       "    </tr>\n",
       "  </tbody>\n",
       "</table>\n",
       "</div>"
      ],
      "text/plain": [
       "       total_transactions  recency_days  user_settings_crypto_unlocked  \\\n",
       "count        18746.000000  18746.000000                   18746.000000   \n",
       "mean           144.037768     70.413528                       0.185213   \n",
       "std            243.742826    101.150784                       0.388480   \n",
       "min              1.000000      0.000000                       0.000000   \n",
       "25%             17.000000      6.000000                       0.000000   \n",
       "50%             59.000000     18.000000                       0.000000   \n",
       "75%            164.000000     94.000000                       0.000000   \n",
       "max           5272.000000    498.000000                       1.000000   \n",
       "\n",
       "       attributes_notifications_marketing_push  \\\n",
       "count                             12201.000000   \n",
       "mean                                  0.945660   \n",
       "std                                   0.226696   \n",
       "min                                   0.000000   \n",
       "25%                                   1.000000   \n",
       "50%                                   1.000000   \n",
       "75%                                   1.000000   \n",
       "max                                   1.000000   \n",
       "\n",
       "       attributes_notifications_marketing_email  num_contacts  num_referrals  \\\n",
       "count                               12201.00000  18746.000000        18746.0   \n",
       "mean                                    0.89550     18.428518            0.0   \n",
       "std                                     0.30592     47.219403            0.0   \n",
       "min                                     0.00000      0.000000            0.0   \n",
       "25%                                     1.00000      0.000000            0.0   \n",
       "50%                                     1.00000      5.000000            0.0   \n",
       "75%                                     1.00000     20.000000            0.0   \n",
       "max                                     1.00000   2918.000000            0.0   \n",
       "\n",
       "       num_successful_referrals   tenure_days  avg_transaction_rate  \n",
       "count                   18746.0  18746.000000          18746.000000  \n",
       "mean                        0.0    298.058572              0.493950  \n",
       "std                         0.0    104.537540              0.813158  \n",
       "min                         0.0    133.000000              0.000000  \n",
       "25%                         0.0    207.000000              0.060000  \n",
       "50%                         0.0    290.000000              0.210000  \n",
       "75%                         0.0    384.000000              0.560000  \n",
       "max                         0.0    500.000000             21.880000  "
      ]
     },
     "execution_count": 20,
     "metadata": {},
     "output_type": "execute_result"
    }
   ],
   "source": [
    "# overview of numerical features\n",
    "user_agg.describe()"
   ]
  },
  {
   "cell_type": "code",
   "execution_count": 21,
   "metadata": {
    "ExecuteTime": {
     "end_time": "2019-11-20T12:10:49.330961Z",
     "start_time": "2019-11-20T12:10:48.122553Z"
    }
   },
   "outputs": [
    {
     "data": {
      "image/png": "[encoded data removed]",
      "text/plain": [
       "<Figure size 1080x720 with 12 Axes>"
      ]
     },
     "metadata": {
      "needs_background": "light"
     },
     "output_type": "display_data"
    }
   ],
   "source": [
    "# most of the variables, aside from tenure have skewed distiributions\n",
    "user_agg.hist(figsize=(15,10));"
   ]
  },
  {
   "cell_type": "code",
   "execution_count": 22,
   "metadata": {
    "ExecuteTime": {
     "end_time": "2019-11-20T12:10:54.414653Z",
     "start_time": "2019-11-20T12:10:49.333061Z"
    }
   },
   "outputs": [
    {
     "name": "stderr",
     "output_type": "stream",
     "text": [
      "/Users/shaq/anaconda3/lib/python3.7/site-packages/scipy/stats/stats.py:1713: FutureWarning: Using a non-tuple sequence for multidimensional indexing is deprecated; use `arr[tuple(seq)]` instead of `arr[seq]`. In the future this will be interpreted as an array index, `arr[np.array(seq)]`, which will result either in an error or a different result.\n",
      "  return np.add.reduce(sorted[indexer] * weights, axis=axis) / sumval\n"
     ]
    },
    {
     "data": {
      "image/png": "[encoded data removed]",
      "text/plain": [
       "<Figure size 798.75x720 with 20 Axes>"
      ]
     },
     "metadata": {
      "needs_background": "light"
     },
     "output_type": "display_data"
    }
   ],
   "source": [
    "rcParams['figure.figsize'] = 5, 2.5\n",
    "\n",
    "sample = user_agg[['avg_transaction_rate', 'total_transactions', 'tenure_days', 'recency_days', 'engaged_user']]\n",
    "\n",
    "sns.pairplot(sample, hue='engaged_user');"
   ]
  },
  {
   "cell_type": "code",
   "execution_count": 23,
   "metadata": {
    "ExecuteTime": {
     "end_time": "2019-11-20T12:10:54.426537Z",
     "start_time": "2019-11-20T12:10:54.416419Z"
    }
   },
   "outputs": [],
   "source": [
    "# drop tenure from dataset\n",
    "# this feature is not correctly calculated, as I do not know when/if customers churned\n",
    "# this does not fit into an engagement model\n",
    "\n",
    "user_agg_interim = user_agg.drop(['tenure_days'], axis=1)"
   ]
  },
  {
   "cell_type": "markdown",
   "metadata": {},
   "source": [
    "##### Feature Selection"
   ]
  },
  {
   "cell_type": "code",
   "execution_count": 24,
   "metadata": {
    "ExecuteTime": {
     "end_time": "2019-11-20T12:10:54.537453Z",
     "start_time": "2019-11-20T12:10:54.446315Z"
    }
   },
   "outputs": [
    {
     "name": "stdout",
     "output_type": "stream",
     "text": [
      "0 features with greater than 0.40 missing values.\n",
      "\n",
      "2 features with a single unique value.\n",
      "\n",
      "1 features with a correlation magnitude greater than 0.75.\n",
      "\n",
      "3 total features out of 15 identified for removal.\n",
      "\n"
     ]
    }
   ],
   "source": [
    "# Feature Selection, using a class I built to find highly correlated variables, single values and missing values\n",
    "\n",
    "fs = FeatureSelector(user_agg_interim, 'engaged_user')\n",
    "\n",
    "fs.identify_all(selection_params={'missing_threshold': 0.4,    \n",
    "                                    'correlation_threshold': 0.75\n",
    "                                   })\n"
   ]
  },
  {
   "cell_type": "code",
   "execution_count": 25,
   "metadata": {
    "ExecuteTime": {
     "end_time": "2019-11-20T12:10:54.546462Z",
     "start_time": "2019-11-20T12:10:54.539376Z"
    },
    "scrolled": true
   },
   "outputs": [
    {
     "name": "stdout",
     "output_type": "stream",
     "text": [
      "Total of 3 features identified for removal\n"
     ]
    },
    {
     "data": {
      "text/plain": [
       "['num_referrals', 'num_successful_referrals', 'avg_transaction_rate']"
      ]
     },
     "execution_count": 25,
     "metadata": {},
     "output_type": "execute_result"
    }
   ],
   "source": [
    "# list the features to be removed\n",
    "fs.check_removal()"
   ]
  },
  {
   "cell_type": "code",
   "execution_count": 26,
   "metadata": {
    "ExecuteTime": {
     "end_time": "2019-11-20T12:10:54.559710Z",
     "start_time": "2019-11-20T12:10:54.549786Z"
    }
   },
   "outputs": [
    {
     "data": {
      "text/html": [
       "<div>\n",
       "<style scoped>\n",
       "    .dataframe tbody tr th:only-of-type {\n",
       "        vertical-align: middle;\n",
       "    }\n",
       "\n",
       "    .dataframe tbody tr th {\n",
       "        vertical-align: top;\n",
       "    }\n",
       "\n",
       "    .dataframe thead th {\n",
       "        text-align: right;\n",
       "    }\n",
       "</style>\n",
       "<table border=\"1\" class=\"dataframe\">\n",
       "  <thead>\n",
       "    <tr style=\"text-align: right;\">\n",
       "      <th></th>\n",
       "      <th>missing_fraction</th>\n",
       "    </tr>\n",
       "  </thead>\n",
       "  <tbody>\n",
       "    <tr>\n",
       "      <th>attributes_notifications_marketing_push</th>\n",
       "      <td>0.349141</td>\n",
       "    </tr>\n",
       "    <tr>\n",
       "      <th>attributes_notifications_marketing_email</th>\n",
       "      <td>0.349141</td>\n",
       "    </tr>\n",
       "    <tr>\n",
       "      <th>user_id</th>\n",
       "      <td>0.000000</td>\n",
       "    </tr>\n",
       "    <tr>\n",
       "      <th>total_transactions</th>\n",
       "      <td>0.000000</td>\n",
       "    </tr>\n",
       "    <tr>\n",
       "      <th>recency_days</th>\n",
       "      <td>0.000000</td>\n",
       "    </tr>\n",
       "    <tr>\n",
       "      <th>country</th>\n",
       "      <td>0.000000</td>\n",
       "    </tr>\n",
       "    <tr>\n",
       "      <th>user_settings_crypto_unlocked</th>\n",
       "      <td>0.000000</td>\n",
       "    </tr>\n",
       "    <tr>\n",
       "      <th>num_contacts</th>\n",
       "      <td>0.000000</td>\n",
       "    </tr>\n",
       "    <tr>\n",
       "      <th>num_referrals</th>\n",
       "      <td>0.000000</td>\n",
       "    </tr>\n",
       "    <tr>\n",
       "      <th>num_successful_referrals</th>\n",
       "      <td>0.000000</td>\n",
       "    </tr>\n",
       "    <tr>\n",
       "      <th>age_group</th>\n",
       "      <td>0.000000</td>\n",
       "    </tr>\n",
       "    <tr>\n",
       "      <th>plan_group</th>\n",
       "      <td>0.000000</td>\n",
       "    </tr>\n",
       "    <tr>\n",
       "      <th>avg_transaction_rate</th>\n",
       "      <td>0.000000</td>\n",
       "    </tr>\n",
       "    <tr>\n",
       "      <th>brand</th>\n",
       "      <td>0.000000</td>\n",
       "    </tr>\n",
       "    <tr>\n",
       "      <th>engaged_user</th>\n",
       "      <td>0.000000</td>\n",
       "    </tr>\n",
       "  </tbody>\n",
       "</table>\n",
       "</div>"
      ],
      "text/plain": [
       "                                          missing_fraction\n",
       "attributes_notifications_marketing_push           0.349141\n",
       "attributes_notifications_marketing_email          0.349141\n",
       "user_id                                           0.000000\n",
       "total_transactions                                0.000000\n",
       "recency_days                                      0.000000\n",
       "country                                           0.000000\n",
       "user_settings_crypto_unlocked                     0.000000\n",
       "num_contacts                                      0.000000\n",
       "num_referrals                                     0.000000\n",
       "num_successful_referrals                          0.000000\n",
       "age_group                                         0.000000\n",
       "plan_group                                        0.000000\n",
       "avg_transaction_rate                              0.000000\n",
       "brand                                             0.000000\n",
       "engaged_user                                      0.000000"
      ]
     },
     "execution_count": 26,
     "metadata": {},
     "output_type": "execute_result"
    }
   ],
   "source": [
    "# missing data\n",
    "\n",
    "fs.missing_stats.head(25)"
   ]
  },
  {
   "cell_type": "code",
   "execution_count": 27,
   "metadata": {
    "ExecuteTime": {
     "end_time": "2019-11-20T12:10:54.581597Z",
     "start_time": "2019-11-20T12:10:54.561816Z"
    }
   },
   "outputs": [],
   "source": [
    "# fill nas with 0\n",
    "\n",
    "user_agg_interim.fillna(0, inplace=True)"
   ]
  },
  {
   "cell_type": "code",
   "execution_count": 28,
   "metadata": {
    "ExecuteTime": {
     "end_time": "2019-11-20T12:10:54.783372Z",
     "start_time": "2019-11-20T12:10:54.585720Z"
    }
   },
   "outputs": [
    {
     "data": {
      "image/png": "[encoded data removed]",
      "text/plain": [
       "<Figure size 504x360 with 1 Axes>"
      ]
     },
     "metadata": {
      "needs_background": "light"
     },
     "output_type": "display_data"
    }
   ],
   "source": [
    "# single value features\n",
    "\n",
    "fs.plot_unique()"
   ]
  },
  {
   "cell_type": "code",
   "execution_count": 29,
   "metadata": {
    "ExecuteTime": {
     "end_time": "2019-11-20T12:10:54.795559Z",
     "start_time": "2019-11-20T12:10:54.786047Z"
    }
   },
   "outputs": [
    {
     "data": {
      "text/plain": [
       "['num_referrals', 'num_successful_referrals']"
      ]
     },
     "execution_count": 29,
     "metadata": {},
     "output_type": "execute_result"
    }
   ],
   "source": [
    "unique_features = fs.ops['single_unique']\n",
    "unique_features"
   ]
  },
  {
   "cell_type": "code",
   "execution_count": 30,
   "metadata": {
    "ExecuteTime": {
     "end_time": "2019-11-20T12:10:54.819410Z",
     "start_time": "2019-11-20T12:10:54.799309Z"
    }
   },
   "outputs": [
    {
     "name": "stdout",
     "output_type": "stream",
     "text": [
      "2 features with a correlation magnitude greater than 0.75.\n",
      "\n"
     ]
    }
   ],
   "source": [
    "# identify correlated features\n",
    "\n",
    "fs.identify_collinear(correlation_threshold=0.75)"
   ]
  },
  {
   "cell_type": "code",
   "execution_count": 31,
   "metadata": {
    "ExecuteTime": {
     "end_time": "2019-11-20T12:10:54.842169Z",
     "start_time": "2019-11-20T12:10:54.825969Z"
    }
   },
   "outputs": [
    {
     "data": {
      "text/html": [
       "<div>\n",
       "<style scoped>\n",
       "    .dataframe tbody tr th:only-of-type {\n",
       "        vertical-align: middle;\n",
       "    }\n",
       "\n",
       "    .dataframe tbody tr th {\n",
       "        vertical-align: top;\n",
       "    }\n",
       "\n",
       "    .dataframe thead th {\n",
       "        text-align: right;\n",
       "    }\n",
       "</style>\n",
       "<table border=\"1\" class=\"dataframe\">\n",
       "  <thead>\n",
       "    <tr style=\"text-align: right;\">\n",
       "      <th></th>\n",
       "      <th>corr_feature</th>\n",
       "      <th>drop_feature</th>\n",
       "      <th>corr_values</th>\n",
       "    </tr>\n",
       "  </thead>\n",
       "  <tbody>\n",
       "    <tr>\n",
       "      <th>0</th>\n",
       "      <td>total_transactions</td>\n",
       "      <td>avg_transaction_rate</td>\n",
       "      <td>0.93</td>\n",
       "    </tr>\n",
       "    <tr>\n",
       "      <th>1</th>\n",
       "      <td>attributes_notifications_marketing_push</td>\n",
       "      <td>attributes_notifications_marketing_email</td>\n",
       "      <td>0.92</td>\n",
       "    </tr>\n",
       "  </tbody>\n",
       "</table>\n",
       "</div>"
      ],
      "text/plain": [
       "                              corr_feature  \\\n",
       "0                       total_transactions   \n",
       "1  attributes_notifications_marketing_push   \n",
       "\n",
       "                               drop_feature  corr_values  \n",
       "0                      avg_transaction_rate         0.93  \n",
       "1  attributes_notifications_marketing_email         0.92  "
      ]
     },
     "execution_count": 31,
     "metadata": {},
     "output_type": "execute_result"
    }
   ],
   "source": [
    "fs.record_collinear"
   ]
  },
  {
   "cell_type": "code",
   "execution_count": 32,
   "metadata": {
    "ExecuteTime": {
     "end_time": "2019-11-20T12:10:55.101607Z",
     "start_time": "2019-11-20T12:10:54.845138Z"
    }
   },
   "outputs": [
    {
     "data": {
      "image/png": "[encoded data removed]",
      "text/plain": [
       "<Figure size 720x576 with 2 Axes>"
      ]
     },
     "metadata": {
      "needs_background": "light"
     },
     "output_type": "display_data"
    }
   ],
   "source": [
    "fs.plot_collinear()"
   ]
  },
  {
   "cell_type": "code",
   "execution_count": 33,
   "metadata": {
    "ExecuteTime": {
     "end_time": "2019-11-20T12:10:55.114842Z",
     "start_time": "2019-11-20T12:10:55.103330Z"
    }
   },
   "outputs": [
    {
     "name": "stdout",
     "output_type": "stream",
     "text": [
      "['missing', 'single_unique', 'collinear'] methods have been run\n",
      "\n",
      "Removed 4 features.\n",
      "\n",
      " ['num_referrals', 'attributes_notifications_marketing_email', 'num_successful_referrals', 'avg_transaction_rate']\n"
     ]
    },
    {
     "data": {
      "text/plain": [
       "(18746, 11)"
      ]
     },
     "execution_count": 33,
     "metadata": {},
     "output_type": "execute_result"
    }
   ],
   "source": [
    "# remove features identified\n",
    "\n",
    "user_agg_interim = fs.remove(methods='all')\n",
    "\n",
    "user_agg_interim.shape"
   ]
  },
  {
   "cell_type": "markdown",
   "metadata": {},
   "source": [
    "##### Preprocessing Data"
   ]
  },
  {
   "cell_type": "code",
   "execution_count": 36,
   "metadata": {
    "ExecuteTime": {
     "end_time": "2019-11-08T02:46:09.542251Z",
     "start_time": "2019-11-08T02:46:09.537131Z"
    }
   },
   "outputs": [],
   "source": [
    "def make_dummy_var(data, var):\n",
    "    \"\"\"specify dataset and variable names to hot encode\"\"\"\n",
    "    one_hot = pd.get_dummies(data[var], prefix=var)\n",
    "    data.drop(var, axis=1, inplace=True)\n",
    "    data = data.join(one_hot)\n",
    "\n",
    "    return data"
   ]
  },
  {
   "cell_type": "code",
   "execution_count": 37,
   "metadata": {
    "ExecuteTime": {
     "end_time": "2019-11-08T02:46:10.228187Z",
     "start_time": "2019-11-08T02:46:10.199783Z"
    }
   },
   "outputs": [],
   "source": [
    "# hot encoding the categorical data\n",
    "# if time, look into best way to encode country, which has multiple categories\n",
    "\n",
    "user_agg_final = make_dummy_var(user_agg_interim, ['age_group', 'country', 'brand', 'plan_group'])\n"
   ]
  },
  {
   "cell_type": "code",
   "execution_count": 38,
   "metadata": {
    "ExecuteTime": {
     "end_time": "2019-11-08T02:46:10.600326Z",
     "start_time": "2019-11-08T02:46:10.589844Z"
    }
   },
   "outputs": [],
   "source": [
    "# encode target column\n",
    "\n",
    "user_agg_final['engaged_user'] = user_agg_interim ['engaged_user'].replace({'No': 0, 'Yes': 1})"
   ]
  },
  {
   "cell_type": "code",
   "execution_count": 39,
   "metadata": {
    "ExecuteTime": {
     "end_time": "2019-11-08T02:46:11.066532Z",
     "start_time": "2019-11-08T02:46:11.040860Z"
    }
   },
   "outputs": [
    {
     "data": {
      "text/html": [
       "<div>\n",
       "<style scoped>\n",
       "    .dataframe tbody tr th:only-of-type {\n",
       "        vertical-align: middle;\n",
       "    }\n",
       "\n",
       "    .dataframe tbody tr th {\n",
       "        vertical-align: top;\n",
       "    }\n",
       "\n",
       "    .dataframe thead th {\n",
       "        text-align: right;\n",
       "    }\n",
       "</style>\n",
       "<table border=\"1\" class=\"dataframe\">\n",
       "  <thead>\n",
       "    <tr style=\"text-align: right;\">\n",
       "      <th></th>\n",
       "      <th>total_transactions</th>\n",
       "      <th>recency_days</th>\n",
       "      <th>user_settings_crypto_unlocked</th>\n",
       "      <th>attributes_notifications_marketing_push</th>\n",
       "      <th>num_contacts</th>\n",
       "      <th>engaged_user</th>\n",
       "      <th>age_group_18-27</th>\n",
       "      <th>age_group_28-37</th>\n",
       "      <th>age_group_38-47</th>\n",
       "      <th>age_group_48-57</th>\n",
       "      <th>...</th>\n",
       "      <th>country_RE</th>\n",
       "      <th>country_RO</th>\n",
       "      <th>country_SE</th>\n",
       "      <th>country_SI</th>\n",
       "      <th>country_SK</th>\n",
       "      <th>brand_Android</th>\n",
       "      <th>brand_Apple</th>\n",
       "      <th>brand_Unknown</th>\n",
       "      <th>plan_group_NON-STANDARD</th>\n",
       "      <th>plan_group_STANDARD</th>\n",
       "    </tr>\n",
       "  </thead>\n",
       "  <tbody>\n",
       "    <tr>\n",
       "      <th>0</th>\n",
       "      <td>385</td>\n",
       "      <td>14</td>\n",
       "      <td>1</td>\n",
       "      <td>1.0</td>\n",
       "      <td>3</td>\n",
       "      <td>1</td>\n",
       "      <td>0</td>\n",
       "      <td>1</td>\n",
       "      <td>0</td>\n",
       "      <td>0</td>\n",
       "      <td>...</td>\n",
       "      <td>0</td>\n",
       "      <td>0</td>\n",
       "      <td>0</td>\n",
       "      <td>0</td>\n",
       "      <td>0</td>\n",
       "      <td>0</td>\n",
       "      <td>1</td>\n",
       "      <td>0</td>\n",
       "      <td>0</td>\n",
       "      <td>1</td>\n",
       "    </tr>\n",
       "    <tr>\n",
       "      <th>1</th>\n",
       "      <td>126</td>\n",
       "      <td>78</td>\n",
       "      <td>0</td>\n",
       "      <td>0.0</td>\n",
       "      <td>21</td>\n",
       "      <td>1</td>\n",
       "      <td>0</td>\n",
       "      <td>0</td>\n",
       "      <td>1</td>\n",
       "      <td>0</td>\n",
       "      <td>...</td>\n",
       "      <td>0</td>\n",
       "      <td>0</td>\n",
       "      <td>0</td>\n",
       "      <td>0</td>\n",
       "      <td>0</td>\n",
       "      <td>0</td>\n",
       "      <td>1</td>\n",
       "      <td>0</td>\n",
       "      <td>0</td>\n",
       "      <td>1</td>\n",
       "    </tr>\n",
       "    <tr>\n",
       "      <th>2</th>\n",
       "      <td>1046</td>\n",
       "      <td>5</td>\n",
       "      <td>0</td>\n",
       "      <td>1.0</td>\n",
       "      <td>38</td>\n",
       "      <td>1</td>\n",
       "      <td>0</td>\n",
       "      <td>0</td>\n",
       "      <td>1</td>\n",
       "      <td>0</td>\n",
       "      <td>...</td>\n",
       "      <td>0</td>\n",
       "      <td>0</td>\n",
       "      <td>0</td>\n",
       "      <td>0</td>\n",
       "      <td>0</td>\n",
       "      <td>0</td>\n",
       "      <td>1</td>\n",
       "      <td>0</td>\n",
       "      <td>0</td>\n",
       "      <td>1</td>\n",
       "    </tr>\n",
       "    <tr>\n",
       "      <th>3</th>\n",
       "      <td>130</td>\n",
       "      <td>9</td>\n",
       "      <td>0</td>\n",
       "      <td>0.0</td>\n",
       "      <td>0</td>\n",
       "      <td>1</td>\n",
       "      <td>0</td>\n",
       "      <td>0</td>\n",
       "      <td>0</td>\n",
       "      <td>1</td>\n",
       "      <td>...</td>\n",
       "      <td>0</td>\n",
       "      <td>0</td>\n",
       "      <td>0</td>\n",
       "      <td>0</td>\n",
       "      <td>0</td>\n",
       "      <td>0</td>\n",
       "      <td>1</td>\n",
       "      <td>0</td>\n",
       "      <td>0</td>\n",
       "      <td>1</td>\n",
       "    </tr>\n",
       "    <tr>\n",
       "      <th>4</th>\n",
       "      <td>39</td>\n",
       "      <td>324</td>\n",
       "      <td>1</td>\n",
       "      <td>1.0</td>\n",
       "      <td>0</td>\n",
       "      <td>0</td>\n",
       "      <td>0</td>\n",
       "      <td>0</td>\n",
       "      <td>0</td>\n",
       "      <td>0</td>\n",
       "      <td>...</td>\n",
       "      <td>0</td>\n",
       "      <td>0</td>\n",
       "      <td>0</td>\n",
       "      <td>0</td>\n",
       "      <td>0</td>\n",
       "      <td>1</td>\n",
       "      <td>0</td>\n",
       "      <td>0</td>\n",
       "      <td>0</td>\n",
       "      <td>1</td>\n",
       "    </tr>\n",
       "  </tbody>\n",
       "</table>\n",
       "<p>5 rows × 59 columns</p>\n",
       "</div>"
      ],
      "text/plain": [
       "   total_transactions  recency_days  user_settings_crypto_unlocked  \\\n",
       "0                 385            14                              1   \n",
       "1                 126            78                              0   \n",
       "2                1046             5                              0   \n",
       "3                 130             9                              0   \n",
       "4                  39           324                              1   \n",
       "\n",
       "   attributes_notifications_marketing_push  num_contacts  engaged_user  \\\n",
       "0                                      1.0             3             1   \n",
       "1                                      0.0            21             1   \n",
       "2                                      1.0            38             1   \n",
       "3                                      0.0             0             1   \n",
       "4                                      1.0             0             0   \n",
       "\n",
       "   age_group_18-27  age_group_28-37  age_group_38-47  age_group_48-57  ...  \\\n",
       "0                0                1                0                0  ...   \n",
       "1                0                0                1                0  ...   \n",
       "2                0                0                1                0  ...   \n",
       "3                0                0                0                1  ...   \n",
       "4                0                0                0                0  ...   \n",
       "\n",
       "   country_RE  country_RO  country_SE  country_SI  country_SK  brand_Android  \\\n",
       "0           0           0           0           0           0              0   \n",
       "1           0           0           0           0           0              0   \n",
       "2           0           0           0           0           0              0   \n",
       "3           0           0           0           0           0              0   \n",
       "4           0           0           0           0           0              1   \n",
       "\n",
       "   brand_Apple  brand_Unknown  plan_group_NON-STANDARD  plan_group_STANDARD  \n",
       "0            1              0                        0                    1  \n",
       "1            1              0                        0                    1  \n",
       "2            1              0                        0                    1  \n",
       "3            1              0                        0                    1  \n",
       "4            0              0                        0                    1  \n",
       "\n",
       "[5 rows x 59 columns]"
      ]
     },
     "execution_count": 39,
     "metadata": {},
     "output_type": "execute_result"
    }
   ],
   "source": [
    "# drop user_id\n",
    "\n",
    "user_agg_final.drop(['user_id'], inplace=True, axis=1)\n",
    "\n",
    "user_agg_final.head()"
   ]
  },
  {
   "cell_type": "code",
   "execution_count": 40,
   "metadata": {
    "ExecuteTime": {
     "end_time": "2019-11-08T02:46:12.251521Z",
     "start_time": "2019-11-08T02:46:11.623660Z"
    }
   },
   "outputs": [
    {
     "data": {
      "text/html": [
       "<div>\n",
       "<style scoped>\n",
       "    .dataframe tbody tr th:only-of-type {\n",
       "        vertical-align: middle;\n",
       "    }\n",
       "\n",
       "    .dataframe tbody tr th {\n",
       "        vertical-align: top;\n",
       "    }\n",
       "\n",
       "    .dataframe thead th {\n",
       "        text-align: right;\n",
       "    }\n",
       "</style>\n",
       "<table border=\"1\" class=\"dataframe\">\n",
       "  <thead>\n",
       "    <tr style=\"text-align: right;\">\n",
       "      <th></th>\n",
       "      <th>total_transactions</th>\n",
       "      <th>recency_days</th>\n",
       "      <th>user_settings_crypto_unlocked</th>\n",
       "      <th>attributes_notifications_marketing_push</th>\n",
       "      <th>num_contacts</th>\n",
       "      <th>engaged_user</th>\n",
       "      <th>age_group_18-27</th>\n",
       "      <th>age_group_28-37</th>\n",
       "      <th>age_group_38-47</th>\n",
       "      <th>age_group_48-57</th>\n",
       "      <th>...</th>\n",
       "      <th>country_RE</th>\n",
       "      <th>country_RO</th>\n",
       "      <th>country_SE</th>\n",
       "      <th>country_SI</th>\n",
       "      <th>country_SK</th>\n",
       "      <th>brand_Android</th>\n",
       "      <th>brand_Apple</th>\n",
       "      <th>brand_Unknown</th>\n",
       "      <th>plan_group_NON-STANDARD</th>\n",
       "      <th>plan_group_STANDARD</th>\n",
       "    </tr>\n",
       "  </thead>\n",
       "  <tbody>\n",
       "    <tr>\n",
       "      <th>0</th>\n",
       "      <td>0.072851</td>\n",
       "      <td>0.028112</td>\n",
       "      <td>1.0</td>\n",
       "      <td>1.0</td>\n",
       "      <td>0.001028</td>\n",
       "      <td>1</td>\n",
       "      <td>0.0</td>\n",
       "      <td>1.0</td>\n",
       "      <td>0.0</td>\n",
       "      <td>0.0</td>\n",
       "      <td>...</td>\n",
       "      <td>0.0</td>\n",
       "      <td>0.0</td>\n",
       "      <td>0.0</td>\n",
       "      <td>0.0</td>\n",
       "      <td>0.0</td>\n",
       "      <td>0.0</td>\n",
       "      <td>1.0</td>\n",
       "      <td>0.0</td>\n",
       "      <td>0.0</td>\n",
       "      <td>1.0</td>\n",
       "    </tr>\n",
       "    <tr>\n",
       "      <th>1</th>\n",
       "      <td>0.023715</td>\n",
       "      <td>0.156627</td>\n",
       "      <td>0.0</td>\n",
       "      <td>0.0</td>\n",
       "      <td>0.007197</td>\n",
       "      <td>1</td>\n",
       "      <td>0.0</td>\n",
       "      <td>0.0</td>\n",
       "      <td>1.0</td>\n",
       "      <td>0.0</td>\n",
       "      <td>...</td>\n",
       "      <td>0.0</td>\n",
       "      <td>0.0</td>\n",
       "      <td>0.0</td>\n",
       "      <td>0.0</td>\n",
       "      <td>0.0</td>\n",
       "      <td>0.0</td>\n",
       "      <td>1.0</td>\n",
       "      <td>0.0</td>\n",
       "      <td>0.0</td>\n",
       "      <td>1.0</td>\n",
       "    </tr>\n",
       "    <tr>\n",
       "      <th>2</th>\n",
       "      <td>0.198255</td>\n",
       "      <td>0.010040</td>\n",
       "      <td>0.0</td>\n",
       "      <td>1.0</td>\n",
       "      <td>0.013023</td>\n",
       "      <td>1</td>\n",
       "      <td>0.0</td>\n",
       "      <td>0.0</td>\n",
       "      <td>1.0</td>\n",
       "      <td>0.0</td>\n",
       "      <td>...</td>\n",
       "      <td>0.0</td>\n",
       "      <td>0.0</td>\n",
       "      <td>0.0</td>\n",
       "      <td>0.0</td>\n",
       "      <td>0.0</td>\n",
       "      <td>0.0</td>\n",
       "      <td>1.0</td>\n",
       "      <td>0.0</td>\n",
       "      <td>0.0</td>\n",
       "      <td>1.0</td>\n",
       "    </tr>\n",
       "    <tr>\n",
       "      <th>3</th>\n",
       "      <td>0.024474</td>\n",
       "      <td>0.018072</td>\n",
       "      <td>0.0</td>\n",
       "      <td>0.0</td>\n",
       "      <td>0.000000</td>\n",
       "      <td>1</td>\n",
       "      <td>0.0</td>\n",
       "      <td>0.0</td>\n",
       "      <td>0.0</td>\n",
       "      <td>1.0</td>\n",
       "      <td>...</td>\n",
       "      <td>0.0</td>\n",
       "      <td>0.0</td>\n",
       "      <td>0.0</td>\n",
       "      <td>0.0</td>\n",
       "      <td>0.0</td>\n",
       "      <td>0.0</td>\n",
       "      <td>1.0</td>\n",
       "      <td>0.0</td>\n",
       "      <td>0.0</td>\n",
       "      <td>1.0</td>\n",
       "    </tr>\n",
       "    <tr>\n",
       "      <th>4</th>\n",
       "      <td>0.007209</td>\n",
       "      <td>0.650602</td>\n",
       "      <td>1.0</td>\n",
       "      <td>1.0</td>\n",
       "      <td>0.000000</td>\n",
       "      <td>0</td>\n",
       "      <td>0.0</td>\n",
       "      <td>0.0</td>\n",
       "      <td>0.0</td>\n",
       "      <td>0.0</td>\n",
       "      <td>...</td>\n",
       "      <td>0.0</td>\n",
       "      <td>0.0</td>\n",
       "      <td>0.0</td>\n",
       "      <td>0.0</td>\n",
       "      <td>0.0</td>\n",
       "      <td>1.0</td>\n",
       "      <td>0.0</td>\n",
       "      <td>0.0</td>\n",
       "      <td>0.0</td>\n",
       "      <td>1.0</td>\n",
       "    </tr>\n",
       "  </tbody>\n",
       "</table>\n",
       "<p>5 rows × 59 columns</p>\n",
       "</div>"
      ],
      "text/plain": [
       "   total_transactions  recency_days  user_settings_crypto_unlocked  \\\n",
       "0            0.072851      0.028112                            1.0   \n",
       "1            0.023715      0.156627                            0.0   \n",
       "2            0.198255      0.010040                            0.0   \n",
       "3            0.024474      0.018072                            0.0   \n",
       "4            0.007209      0.650602                            1.0   \n",
       "\n",
       "   attributes_notifications_marketing_push  num_contacts  engaged_user  \\\n",
       "0                                      1.0      0.001028             1   \n",
       "1                                      0.0      0.007197             1   \n",
       "2                                      1.0      0.013023             1   \n",
       "3                                      0.0      0.000000             1   \n",
       "4                                      1.0      0.000000             0   \n",
       "\n",
       "   age_group_18-27  age_group_28-37  age_group_38-47  age_group_48-57  ...  \\\n",
       "0              0.0              1.0              0.0              0.0  ...   \n",
       "1              0.0              0.0              1.0              0.0  ...   \n",
       "2              0.0              0.0              1.0              0.0  ...   \n",
       "3              0.0              0.0              0.0              1.0  ...   \n",
       "4              0.0              0.0              0.0              0.0  ...   \n",
       "\n",
       "   country_RE  country_RO  country_SE  country_SI  country_SK  brand_Android  \\\n",
       "0         0.0         0.0         0.0         0.0         0.0            0.0   \n",
       "1         0.0         0.0         0.0         0.0         0.0            0.0   \n",
       "2         0.0         0.0         0.0         0.0         0.0            0.0   \n",
       "3         0.0         0.0         0.0         0.0         0.0            0.0   \n",
       "4         0.0         0.0         0.0         0.0         0.0            1.0   \n",
       "\n",
       "   brand_Apple  brand_Unknown  plan_group_NON-STANDARD  plan_group_STANDARD  \n",
       "0          1.0            0.0                      0.0                  1.0  \n",
       "1          1.0            0.0                      0.0                  1.0  \n",
       "2          1.0            0.0                      0.0                  1.0  \n",
       "3          1.0            0.0                      0.0                  1.0  \n",
       "4          0.0            0.0                      0.0                  1.0  \n",
       "\n",
       "[5 rows x 59 columns]"
      ]
     },
     "execution_count": 40,
     "metadata": {},
     "output_type": "execute_result"
    }
   ],
   "source": [
    "# scaling numerical features to a range between 0 and 1\n",
    "# not necessary for decision tree algorithms, but can improve other ML algorithms performance.\n",
    "# \n",
    "\n",
    "from sklearn.preprocessing import MinMaxScaler\n",
    "scaler = MinMaxScaler(feature_range=(0, 1))\n",
    "col = list(user_agg_final.columns)\n",
    "col.remove('engaged_user')\n",
    "for col in col:\n",
    "    user_agg_final[col] = user_agg_final[col].astype(float)\n",
    "    user_agg_final[[col]] = scaler.fit_transform(user_agg_final[[col]])\n",
    "user_agg_final.head()\n"
   ]
  },
  {
   "cell_type": "code",
   "execution_count": 41,
   "metadata": {
    "ExecuteTime": {
     "end_time": "2019-11-08T02:46:12.399501Z",
     "start_time": "2019-11-08T02:46:12.338094Z"
    }
   },
   "outputs": [],
   "source": [
    "# split data into train and test\n",
    "\n",
    "from sklearn.model_selection import train_test_split, learning_curve, cross_val_score\n",
    "from sklearn.metrics import accuracy_score, confusion_matrix, classification_report, scorer, f1_score\n",
    "from sklearn.dummy import DummyClassifier\n",
    "from sklearn.ensemble import RandomForestClassifier\n",
    "from sklearn.linear_model import LogisticRegression\n",
    "from xgboost import XGBClassifier\n",
    "\n",
    "target_data = user_agg_final['engaged_user']\n",
    "features = user_agg_final.drop(['engaged_user'], axis=1)\n",
    "    \n",
    "\n",
    "# store evaluation metrics in a dataframe\n",
    "X_train, X_test, y_train, y_test = train_test_split(\n",
    "                                                features, target_data,\n",
    "                                                test_size=0.3, random_state=0)\n",
    "    "
   ]
  },
  {
   "cell_type": "markdown",
   "metadata": {},
   "source": [
    "##### Building the model"
   ]
  },
  {
   "cell_type": "code",
   "execution_count": 42,
   "metadata": {
    "ExecuteTime": {
     "end_time": "2019-11-08T02:46:13.546466Z",
     "start_time": "2019-11-08T02:46:13.539904Z"
    }
   },
   "outputs": [
    {
     "name": "stdout",
     "output_type": "stream",
     "text": [
      "Training Data\n",
      "(13122, 58)\n",
      "(13122,)\n",
      "\n",
      "Test Data\n",
      "(5624, 58)\n",
      "(5624,)\n"
     ]
    }
   ],
   "source": [
    "print(\"Training Data\")\n",
    "print(X_train.shape)\n",
    "print(y_train.shape)\n",
    "print(\"\\nTest Data\")\n",
    "print(X_test.shape)\n",
    "print(y_test.shape)"
   ]
  },
  {
   "cell_type": "markdown",
   "metadata": {},
   "source": [
    "###### Model Selection"
   ]
  },
  {
   "cell_type": "code",
   "execution_count": 43,
   "metadata": {
    "ExecuteTime": {
     "end_time": "2019-11-08T02:46:15.223577Z",
     "start_time": "2019-11-08T02:46:15.218405Z"
    }
   },
   "outputs": [],
   "source": [
    "from sklearn.ensemble import RandomForestClassifier\n",
    "from sklearn.linear_model import LogisticRegression\n",
    "\n",
    "# model selection\n",
    "models = []\n",
    "# using Dummy Classifier as one baseline algorithm\n",
    "models.append(('Dummy Classifier', DummyClassifier(strategy='stratified')))\n",
    "# using Logistic Regression as another baseline algorithm, to see if anything more advanced if necessary\n",
    "models.append(('Logistic Regression', LogisticRegression(solver='liblinear', random_state=7,\n",
    "                                                         class_weight='balanced')))\n",
    "# chose Random Forest and XGBoost, as powerful supervised learning algorithms and provide feature importance\n",
    "models.append(('Random Forest', RandomForestClassifier(\n",
    "    n_estimators=100)))\n",
    "models.append(('XGBoost', XGBClassifier(n_jobs=-1, verbose=2)))\n"
   ]
  },
  {
   "cell_type": "code",
   "execution_count": 44,
   "metadata": {
    "ExecuteTime": {
     "end_time": "2019-11-08T02:46:45.850821Z",
     "start_time": "2019-11-08T02:46:16.095400Z"
    }
   },
   "outputs": [],
   "source": [
    "scoring_df = []\n",
    "\n",
    "for name, models in models:\n",
    "    cv_acc_results = cross_val_score(  \n",
    "        models, X_train, y_train, cv=5, scoring='accuracy')\n",
    "    cv_auc_results = cross_val_score(  \n",
    "        models, X_train, y_train, cv=5, scoring='roc_auc')\n",
    "    \n",
    "    scoring_dict = {'Model Name': name,\n",
    "                    'Accuracy Mean': round(cv_acc_results.mean(),2), \n",
    "                    'ROC Mean': round(cv_auc_results.mean(),2)\n",
    "                    }\n",
    "    \n",
    "    scoring_df.append(scoring_dict)"
   ]
  },
  {
   "cell_type": "code",
   "execution_count": 45,
   "metadata": {
    "ExecuteTime": {
     "end_time": "2019-11-08T02:46:45.865934Z",
     "start_time": "2019-11-08T02:46:45.852773Z"
    }
   },
   "outputs": [
    {
     "data": {
      "text/html": [
       "<div>\n",
       "<style scoped>\n",
       "    .dataframe tbody tr th:only-of-type {\n",
       "        vertical-align: middle;\n",
       "    }\n",
       "\n",
       "    .dataframe tbody tr th {\n",
       "        vertical-align: top;\n",
       "    }\n",
       "\n",
       "    .dataframe thead th {\n",
       "        text-align: right;\n",
       "    }\n",
       "</style>\n",
       "<table border=\"1\" class=\"dataframe\">\n",
       "  <thead>\n",
       "    <tr style=\"text-align: right;\">\n",
       "      <th></th>\n",
       "      <th>Model Name</th>\n",
       "      <th>Accuracy Mean</th>\n",
       "      <th>ROC Mean</th>\n",
       "    </tr>\n",
       "  </thead>\n",
       "  <tbody>\n",
       "    <tr>\n",
       "      <th>0</th>\n",
       "      <td>Dummy Classifier</td>\n",
       "      <td>0.51</td>\n",
       "      <td>0.49</td>\n",
       "    </tr>\n",
       "    <tr>\n",
       "      <th>1</th>\n",
       "      <td>Logistic Regression</td>\n",
       "      <td>0.83</td>\n",
       "      <td>0.92</td>\n",
       "    </tr>\n",
       "    <tr>\n",
       "      <th>2</th>\n",
       "      <td>Random Forest</td>\n",
       "      <td>0.93</td>\n",
       "      <td>0.98</td>\n",
       "    </tr>\n",
       "    <tr>\n",
       "      <th>3</th>\n",
       "      <td>XGBoost</td>\n",
       "      <td>0.93</td>\n",
       "      <td>0.99</td>\n",
       "    </tr>\n",
       "  </tbody>\n",
       "</table>\n",
       "</div>"
      ],
      "text/plain": [
       "            Model Name  Accuracy Mean  ROC Mean\n",
       "0     Dummy Classifier           0.51      0.49\n",
       "1  Logistic Regression           0.83      0.92\n",
       "2        Random Forest           0.93      0.98\n",
       "3              XGBoost           0.93      0.99"
      ]
     },
     "execution_count": 45,
     "metadata": {},
     "output_type": "execute_result"
    }
   ],
   "source": [
    "scoring_df = pd.DataFrame(scoring_df)\n",
    "\n",
    "scoring_df[['Model Name', 'Accuracy Mean', 'ROC Mean']]"
   ]
  },
  {
   "cell_type": "markdown",
   "metadata": {},
   "source": [
    "Build the engagement model using XGBoost, as it has the highest average accuracy and ROC."
   ]
  },
  {
   "cell_type": "markdown",
   "metadata": {},
   "source": [
    "###### Model Evaluation"
   ]
  },
  {
   "cell_type": "code",
   "execution_count": 46,
   "metadata": {
    "ExecuteTime": {
     "end_time": "2019-11-08T02:47:12.496282Z",
     "start_time": "2019-11-08T02:47:12.492520Z"
    }
   },
   "outputs": [],
   "source": [
    "# best performing model\n",
    "model = XGBClassifier(n_jobs=-1, verbose=2)\n"
   ]
  },
  {
   "cell_type": "code",
   "execution_count": 47,
   "metadata": {
    "ExecuteTime": {
     "end_time": "2019-11-08T02:47:15.636908Z",
     "start_time": "2019-11-08T02:47:12.981101Z"
    }
   },
   "outputs": [],
   "source": [
    "# class I created to evaluate model - confusion matrix, learning curve, feature imp\n",
    "pipe = MLPipeline(X_train,X_test, y_train, y_test, model)"
   ]
  },
  {
   "cell_type": "code",
   "execution_count": 48,
   "metadata": {
    "ExecuteTime": {
     "end_time": "2019-11-08T02:47:15.720331Z",
     "start_time": "2019-11-08T02:47:15.639264Z"
    }
   },
   "outputs": [
    {
     "data": {
      "text/plain": [
       "{'Accuracy (Test Data)': 0.93,\n",
       " 'Accuracy (Train Data)': 0.93,\n",
       " 'F1-Score (Test Data)': 0.93,\n",
       " 'F1-Score (Train Data)': 0.93}"
      ]
     },
     "execution_count": 48,
     "metadata": {},
     "output_type": "execute_result"
    }
   ],
   "source": [
    "# best model score evaluation - no signs of overfitting\n",
    "pipe.score()"
   ]
  },
  {
   "cell_type": "code",
   "execution_count": 49,
   "metadata": {
    "ExecuteTime": {
     "end_time": "2019-11-08T02:47:15.933167Z",
     "start_time": "2019-11-08T02:47:15.722367Z"
    }
   },
   "outputs": [
    {
     "data": {
      "image/png": "[encoded data removed]",
      "text/plain": [
       "<Figure size 421.2x288 with 2 Axes>"
      ]
     },
     "metadata": {},
     "output_type": "display_data"
    }
   ],
   "source": [
    "# confusion matrix for best model - labels need aligning \n",
    "pipe.plot_confusion_matrix()"
   ]
  },
  {
   "cell_type": "code",
   "execution_count": 50,
   "metadata": {
    "ExecuteTime": {
     "end_time": "2019-11-08T02:47:31.932400Z",
     "start_time": "2019-11-08T02:47:15.936371Z"
    }
   },
   "outputs": [
    {
     "data": {
      "image/png": "[encoded data removed]",
      "text/plain": [
       "<Figure size 421.2x288 with 1 Axes>"
      ]
     },
     "metadata": {},
     "output_type": "display_data"
    }
   ],
   "source": [
    "# learning curve for best model\n",
    "pipe.plot_learning_curves()"
   ]
  },
  {
   "cell_type": "code",
   "execution_count": 51,
   "metadata": {
    "ExecuteTime": {
     "end_time": "2019-11-08T02:47:32.244468Z",
     "start_time": "2019-11-08T02:47:31.935045Z"
    }
   },
   "outputs": [
    {
     "data": {
      "image/png": "[encoded data removed]",
      "text/plain": [
       "<Figure size 421.2x288 with 1 Axes>"
      ]
     },
     "metadata": {},
     "output_type": "display_data"
    }
   ],
   "source": [
    "# plot feature importance\n",
    "pipe.feature_importance_plot()\n"
   ]
  },
  {
   "cell_type": "markdown",
   "metadata": {},
   "source": [
    "Remarks:\n",
    "\n",
    "1. Total transactions are the best features when it comes to explaining user engagement (this makes sense, the more transactions, the more engaged a user is), followed by the number of days since a users last transaction and whether they are a GB or IE user.\n",
    "2. Adding more data (features in this case) will help improve the robustness of the model, as indicated in the slight gap in the learning curve.\n"
   ]
  },
  {
   "cell_type": "markdown",
   "metadata": {},
   "source": [
    "### c) How would you set up a test/experiment to check whether we are actually reducing churn?"
   ]
  },
  {
   "cell_type": "markdown",
   "metadata": {},
   "source": [
    "Very simply, I could track the churn rate of all users over the course of the next few months against a forecasted churn rate (if my model was not implemented) and compare the two. \n",
    "\n",
    "Another option would be to provide the business with a sample of users with a high probability of churning (test group), for them to take action, and keep a sample (control group) so I can monitor whether churn is actually being reduced. The null hypothesis would be, the test group will have a lower churn, than the control group, who do not receive any business intervention. To determine if the test is working we would then need to check the uptick in the test group is statistically significant. \n",
    "\n",
    "This is similar to the hypothesis testing I did for measuring campaign effectiveness. Refer to [Hypothesis_Testing](#Hypothesis_Testing)"
   ]
  },
  {
   "cell_type": "markdown",
   "metadata": {},
   "source": [
    "### d) Define a metric to measure the effectiveness of the campaign. Under this metric, was the campaign effective?"
   ]
  },
  {
   "cell_type": "markdown",
   "metadata": {},
   "source": [
    "One way of assessing the effectiveness of the campaign would be to look at the transaction rate/ number of transactions of the user before the campaign was sent, and compare that to the transaction rate of users after the notification was sent. If we see an increase in transactions, we can say the campaign was effective.\n",
    "\n",
    "From the data provided, I looked at the average number of transactions recorded for users before and after the campaign was sent, and conducted a t-test to check the statistical significance of the results. After the campaign was sent, we can see a 31% increase in transactions amongst users, which is statistically significant, indicating the campaign was effective."
   ]
  },
  {
   "cell_type": "code",
   "execution_count": 52,
   "metadata": {
    "ExecuteTime": {
     "end_time": "2019-11-08T02:51:24.089079Z",
     "start_time": "2019-11-08T02:51:19.929395Z"
    }
   },
   "outputs": [
    {
     "name": "stdout",
     "output_type": "stream",
     "text": [
      "(28139, 2)\n"
     ]
    }
   ],
   "source": [
    "# create a table to understand transaction rates before and after the campaign was sent to the user\n",
    "\n",
    "# list of users who were sent the campaign\n",
    "users_campaign = notifications[(notifications.reason == \"REENGAGEMENT_ACTIVE_FUNDS\") &\n",
    "              (notifications.status == \"SENT\")][['user_id', 'created_date']].rename(\n",
    "                    columns={\"created_date\": \"campaign_date\"})\n",
    "\n",
    "print(users_campaign.shape)\n",
    "\n",
    "transaction_reduced = transactions[transactions.user_id.isin(users_campaign.user_id)]\n",
    "\n",
    "users_campaign = users_campaign.merge(transaction_reduced, on=\"user_id\")"
   ]
  },
  {
   "cell_type": "code",
   "execution_count": 53,
   "metadata": {
    "ExecuteTime": {
     "end_time": "2019-11-08T02:52:39.450046Z",
     "start_time": "2019-11-08T02:51:24.090979Z"
    }
   },
   "outputs": [],
   "source": [
    "# identify transactions that were made before and after the campaign was sent\n",
    "users_campaign['reengagement_fund_flag'] = users_campaign.apply(lambda x: 1\n",
    "                            if x['created_date'] >= x['campaign_date']\n",
    "                            else 0,\n",
    "                            axis = 1)"
   ]
  },
  {
   "cell_type": "code",
   "execution_count": 54,
   "metadata": {
    "ExecuteTime": {
     "end_time": "2019-11-08T02:52:39.822286Z",
     "start_time": "2019-11-08T02:52:39.452775Z"
    }
   },
   "outputs": [
    {
     "name": "stdout",
     "output_type": "stream",
     "text": [
      "average number of transactions before campaign was sent\n",
      "average_transactions    123.834414\n",
      "dtype: float64\n"
     ]
    }
   ],
   "source": [
    "# average number of transactions before campaign was sent \n",
    "users_campaign_w_transaction = users_campaign[users_campaign['reengagement_fund_flag'] == 0]\n",
    "\n",
    "print(\"average number of transactions before campaign was sent\")\n",
    "print(pd.DataFrame(\n",
    "            users_campaign_w_transaction.groupby('user_id').transaction_id.count()).rename(\n",
    "                columns={\"transaction_id\": \"average_transactions\"}).mean())"
   ]
  },
  {
   "cell_type": "code",
   "execution_count": 55,
   "metadata": {
    "ExecuteTime": {
     "end_time": "2019-11-08T02:52:40.561138Z",
     "start_time": "2019-11-08T02:52:39.824707Z"
    }
   },
   "outputs": [
    {
     "name": "stdout",
     "output_type": "stream",
     "text": [
      "average number of transactions after campaign was sent\n",
      "average_transactions    161.976657\n",
      "dtype: float64\n",
      "std_transactions    247.748021\n",
      "dtype: float64\n"
     ]
    }
   ],
   "source": [
    "# average number of transactions after campaign was sent \n",
    "users_campaign_w_transaction = users_campaign[users_campaign['reengagement_fund_flag'] == 1]\n",
    "\n",
    "print(\"average number of transactions after campaign was sent\")\n",
    "print(pd.DataFrame(\n",
    "            users_campaign_w_transaction.groupby('user_id').transaction_id.count()).rename(\n",
    "                columns={\"transaction_id\": \"average_transactions\"}).mean())\n",
    "\n",
    "print(pd.DataFrame(\n",
    "            users_campaign_w_transaction.groupby('user_id').transaction_id.count()).rename(\n",
    "                columns={\"transaction_id\": \"std_transactions\"}).std())"
   ]
  },
  {
   "cell_type": "markdown",
   "metadata": {},
   "source": [
    "<a id=\"Hypothesis_Testing\"></a>"
   ]
  },
  {
   "cell_type": "code",
   "execution_count": 56,
   "metadata": {
    "ExecuteTime": {
     "end_time": "2019-11-08T02:52:40.568775Z",
     "start_time": "2019-11-08T02:52:40.564047Z"
    }
   },
   "outputs": [],
   "source": [
    "# H0: There is no significant difference in the average transactions\n",
    "# H1: There is significant difference in the average transactions\n",
    "\n",
    "# calculating t test value\n",
    "\n",
    "sample_mean = 162\n",
    "population_mean = 124\n",
    "\n",
    "sample_size = 28139\n",
    "\n",
    "degree_of_freedom = sample_size - 1\n",
    "standard_deviation = 248"
   ]
  },
  {
   "cell_type": "code",
   "execution_count": 57,
   "metadata": {
    "ExecuteTime": {
     "end_time": "2019-11-08T02:52:40.578101Z",
     "start_time": "2019-11-08T02:52:40.573231Z"
    }
   },
   "outputs": [
    {
     "name": "stdout",
     "output_type": "stream",
     "text": [
      "T Test Value is: 25.70314377456466\n"
     ]
    }
   ],
   "source": [
    "# T-score\n",
    "Ttest = (sample_mean - population_mean) / (standard_deviation/np.sqrt(sample_size))\n",
    "\n",
    "print(\"T Test Value is:\", Ttest)"
   ]
  },
  {
   "cell_type": "code",
   "execution_count": 58,
   "metadata": {
    "ExecuteTime": {
     "end_time": "2019-11-08T02:52:40.588913Z",
     "start_time": "2019-11-08T02:52:40.580947Z"
    }
   },
   "outputs": [
    {
     "name": "stdout",
     "output_type": "stream",
     "text": [
      "pvalue is: 4.964651087312229e-144\n"
     ]
    }
   ],
   "source": [
    "p = stats.t.cdf(Ttest, df = degree_of_freedom)\n",
    "pvalue = stats.t.sf(np.abs(Ttest),degree_of_freedom)*2\n",
    "\n",
    "# if < 0.05 reject the null hypothesis\n",
    "print(\"pvalue is:\", pvalue)"
   ]
  }
 ],
 "metadata": {
  "kernelspec": {
   "display_name": "Python 3",
   "language": "python",
   "name": "python3"
  },
  "language_info": {
   "codemirror_mode": {
    "name": "ipython",
    "version": 3
   },
   "file_extension": ".py",
   "mimetype": "text/x-python",
   "name": "python",
   "nbconvert_exporter": "python",
   "pygments_lexer": "ipython3",
   "version": "3.7.5"
  }
 },
 "nbformat": 4,
 "nbformat_minor": 2
}
